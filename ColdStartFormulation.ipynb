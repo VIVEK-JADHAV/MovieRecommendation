{
  "nbformat": 4,
  "nbformat_minor": 0,
  "metadata": {
    "colab": {
      "name": "ColdStartFormulation.ipynb",
      "provenance": [],
      "collapsed_sections": [
        "pqwAkDAvnLGx",
        "1PCq8ERVnSI4",
        "ehcTzlh-nVtp"
      ],
      "toc_visible": true,
      "mount_file_id": "1wHVSv3skesihtuB1TYVvE9dAPt4bhPOt",
      "authorship_tag": "ABX9TyMmBnTSUONe5vs0W+05CPDg",
      "include_colab_link": true
    },
    "kernelspec": {
      "name": "python3",
      "display_name": "Python 3"
    }
  },
  "cells": [
    {
      "cell_type": "markdown",
      "metadata": {
        "id": "view-in-github",
        "colab_type": "text"
      },
      "source": [
        "<a href=\"https://colab.research.google.com/github/VIVEK-JADHAV/MovieRecommendation/blob/main/ColdStartFormulation.ipynb\" target=\"_parent\"><img src=\"https://colab.research.google.com/assets/colab-badge.svg\" alt=\"Open In Colab\"/></a>"
      ]
    },
    {
      "cell_type": "code",
      "metadata": {
        "id": "-1O0BLFFVfPc"
      },
      "source": [
        "#Importing libraries\r\n",
        "\r\n",
        "import pandas as pd\r\n",
        "import numpy as np\r\n",
        "import os\r\n",
        "from ast import literal_eval\r\n",
        "import seaborn as sns\r\n",
        "import matplotlib.pyplot as plt\r\n",
        "from scipy import sparse\r\n",
        "from scipy.sparse import csr_matrix,coo_matrix\r\n",
        "\r\n",
        "import warnings\r\n",
        "warnings.filterwarnings('ignore')"
      ],
      "execution_count": null,
      "outputs": []
    },
    {
      "cell_type": "code",
      "metadata": {
        "colab": {
          "base_uri": "https://localhost:8080/"
        },
        "id": "bkv1b-tFW9fj",
        "outputId": "f63af67f-b214-4efc-c1c5-c16934d00e84"
      },
      "source": [
        "#Loading the data\r\n",
        "\r\n",
        "os.mkdir('/content/data')\r\n",
        "os.chdir('/content/data')\r\n",
        "print(os.getcwd())\r\n",
        "\r\n",
        "!unzip '/content/drive/MyDrive/CaseStudies/RecommendationSystem/archive.zip'"
      ],
      "execution_count": null,
      "outputs": [
        {
          "output_type": "stream",
          "text": [
            "/content/data\n",
            "Archive:  /content/drive/MyDrive/CaseStudies/RecommendationSystem/archive.zip\n",
            "  inflating: credits.csv             \n",
            "  inflating: keywords.csv            \n",
            "  inflating: links.csv               \n",
            "  inflating: links_small.csv         \n",
            "  inflating: movies_metadata.csv     \n",
            "  inflating: ratings.csv             \n",
            "  inflating: ratings_small.csv       \n"
          ],
          "name": "stdout"
        }
      ]
    },
    {
      "cell_type": "markdown",
      "metadata": {
        "id": "ZM0qs0DPhBZ3"
      },
      "source": [
        "### Cold Start Problem\r\n"
      ]
    },
    {
      "cell_type": "code",
      "metadata": {
        "colab": {
          "base_uri": "https://localhost:8080/",
          "height": 666
        },
        "id": "zYvuq05saZ8N",
        "outputId": "ce365587-1fb6-473f-f7b2-31b350f69361"
      },
      "source": [
        "movies_df=pd.read_csv('/content/data/movies_metadata.csv')\r\n",
        "movies_df.head()"
      ],
      "execution_count": null,
      "outputs": [
        {
          "output_type": "execute_result",
          "data": {
            "text/html": [
              "<div>\n",
              "<style scoped>\n",
              "    .dataframe tbody tr th:only-of-type {\n",
              "        vertical-align: middle;\n",
              "    }\n",
              "\n",
              "    .dataframe tbody tr th {\n",
              "        vertical-align: top;\n",
              "    }\n",
              "\n",
              "    .dataframe thead th {\n",
              "        text-align: right;\n",
              "    }\n",
              "</style>\n",
              "<table border=\"1\" class=\"dataframe\">\n",
              "  <thead>\n",
              "    <tr style=\"text-align: right;\">\n",
              "      <th></th>\n",
              "      <th>adult</th>\n",
              "      <th>belongs_to_collection</th>\n",
              "      <th>budget</th>\n",
              "      <th>genres</th>\n",
              "      <th>homepage</th>\n",
              "      <th>id</th>\n",
              "      <th>imdb_id</th>\n",
              "      <th>original_language</th>\n",
              "      <th>original_title</th>\n",
              "      <th>overview</th>\n",
              "      <th>popularity</th>\n",
              "      <th>poster_path</th>\n",
              "      <th>production_companies</th>\n",
              "      <th>production_countries</th>\n",
              "      <th>release_date</th>\n",
              "      <th>revenue</th>\n",
              "      <th>runtime</th>\n",
              "      <th>spoken_languages</th>\n",
              "      <th>status</th>\n",
              "      <th>tagline</th>\n",
              "      <th>title</th>\n",
              "      <th>video</th>\n",
              "      <th>vote_average</th>\n",
              "      <th>vote_count</th>\n",
              "    </tr>\n",
              "  </thead>\n",
              "  <tbody>\n",
              "    <tr>\n",
              "      <th>0</th>\n",
              "      <td>False</td>\n",
              "      <td>{'id': 10194, 'name': 'Toy Story Collection', ...</td>\n",
              "      <td>30000000</td>\n",
              "      <td>[{'id': 16, 'name': 'Animation'}, {'id': 35, '...</td>\n",
              "      <td>http://toystory.disney.com/toy-story</td>\n",
              "      <td>862</td>\n",
              "      <td>tt0114709</td>\n",
              "      <td>en</td>\n",
              "      <td>Toy Story</td>\n",
              "      <td>Led by Woody, Andy's toys live happily in his ...</td>\n",
              "      <td>21.9469</td>\n",
              "      <td>/rhIRbceoE9lR4veEXuwCC2wARtG.jpg</td>\n",
              "      <td>[{'name': 'Pixar Animation Studios', 'id': 3}]</td>\n",
              "      <td>[{'iso_3166_1': 'US', 'name': 'United States o...</td>\n",
              "      <td>1995-10-30</td>\n",
              "      <td>373554033.0</td>\n",
              "      <td>81.0</td>\n",
              "      <td>[{'iso_639_1': 'en', 'name': 'English'}]</td>\n",
              "      <td>Released</td>\n",
              "      <td>NaN</td>\n",
              "      <td>Toy Story</td>\n",
              "      <td>False</td>\n",
              "      <td>7.7</td>\n",
              "      <td>5415.0</td>\n",
              "    </tr>\n",
              "    <tr>\n",
              "      <th>1</th>\n",
              "      <td>False</td>\n",
              "      <td>NaN</td>\n",
              "      <td>65000000</td>\n",
              "      <td>[{'id': 12, 'name': 'Adventure'}, {'id': 14, '...</td>\n",
              "      <td>NaN</td>\n",
              "      <td>8844</td>\n",
              "      <td>tt0113497</td>\n",
              "      <td>en</td>\n",
              "      <td>Jumanji</td>\n",
              "      <td>When siblings Judy and Peter discover an encha...</td>\n",
              "      <td>17.0155</td>\n",
              "      <td>/vzmL6fP7aPKNKPRTFnZmiUfciyV.jpg</td>\n",
              "      <td>[{'name': 'TriStar Pictures', 'id': 559}, {'na...</td>\n",
              "      <td>[{'iso_3166_1': 'US', 'name': 'United States o...</td>\n",
              "      <td>1995-12-15</td>\n",
              "      <td>262797249.0</td>\n",
              "      <td>104.0</td>\n",
              "      <td>[{'iso_639_1': 'en', 'name': 'English'}, {'iso...</td>\n",
              "      <td>Released</td>\n",
              "      <td>Roll the dice and unleash the excitement!</td>\n",
              "      <td>Jumanji</td>\n",
              "      <td>False</td>\n",
              "      <td>6.9</td>\n",
              "      <td>2413.0</td>\n",
              "    </tr>\n",
              "    <tr>\n",
              "      <th>2</th>\n",
              "      <td>False</td>\n",
              "      <td>{'id': 119050, 'name': 'Grumpy Old Men Collect...</td>\n",
              "      <td>0</td>\n",
              "      <td>[{'id': 10749, 'name': 'Romance'}, {'id': 35, ...</td>\n",
              "      <td>NaN</td>\n",
              "      <td>15602</td>\n",
              "      <td>tt0113228</td>\n",
              "      <td>en</td>\n",
              "      <td>Grumpier Old Men</td>\n",
              "      <td>A family wedding reignites the ancient feud be...</td>\n",
              "      <td>11.7129</td>\n",
              "      <td>/6ksm1sjKMFLbO7UY2i6G1ju9SML.jpg</td>\n",
              "      <td>[{'name': 'Warner Bros.', 'id': 6194}, {'name'...</td>\n",
              "      <td>[{'iso_3166_1': 'US', 'name': 'United States o...</td>\n",
              "      <td>1995-12-22</td>\n",
              "      <td>0.0</td>\n",
              "      <td>101.0</td>\n",
              "      <td>[{'iso_639_1': 'en', 'name': 'English'}]</td>\n",
              "      <td>Released</td>\n",
              "      <td>Still Yelling. Still Fighting. Still Ready for...</td>\n",
              "      <td>Grumpier Old Men</td>\n",
              "      <td>False</td>\n",
              "      <td>6.5</td>\n",
              "      <td>92.0</td>\n",
              "    </tr>\n",
              "    <tr>\n",
              "      <th>3</th>\n",
              "      <td>False</td>\n",
              "      <td>NaN</td>\n",
              "      <td>16000000</td>\n",
              "      <td>[{'id': 35, 'name': 'Comedy'}, {'id': 18, 'nam...</td>\n",
              "      <td>NaN</td>\n",
              "      <td>31357</td>\n",
              "      <td>tt0114885</td>\n",
              "      <td>en</td>\n",
              "      <td>Waiting to Exhale</td>\n",
              "      <td>Cheated on, mistreated and stepped on, the wom...</td>\n",
              "      <td>3.85949</td>\n",
              "      <td>/16XOMpEaLWkrcPqSQqhTmeJuqQl.jpg</td>\n",
              "      <td>[{'name': 'Twentieth Century Fox Film Corporat...</td>\n",
              "      <td>[{'iso_3166_1': 'US', 'name': 'United States o...</td>\n",
              "      <td>1995-12-22</td>\n",
              "      <td>81452156.0</td>\n",
              "      <td>127.0</td>\n",
              "      <td>[{'iso_639_1': 'en', 'name': 'English'}]</td>\n",
              "      <td>Released</td>\n",
              "      <td>Friends are the people who let you be yourself...</td>\n",
              "      <td>Waiting to Exhale</td>\n",
              "      <td>False</td>\n",
              "      <td>6.1</td>\n",
              "      <td>34.0</td>\n",
              "    </tr>\n",
              "    <tr>\n",
              "      <th>4</th>\n",
              "      <td>False</td>\n",
              "      <td>{'id': 96871, 'name': 'Father of the Bride Col...</td>\n",
              "      <td>0</td>\n",
              "      <td>[{'id': 35, 'name': 'Comedy'}]</td>\n",
              "      <td>NaN</td>\n",
              "      <td>11862</td>\n",
              "      <td>tt0113041</td>\n",
              "      <td>en</td>\n",
              "      <td>Father of the Bride Part II</td>\n",
              "      <td>Just when George Banks has recovered from his ...</td>\n",
              "      <td>8.38752</td>\n",
              "      <td>/e64sOI48hQXyru7naBFyssKFxVd.jpg</td>\n",
              "      <td>[{'name': 'Sandollar Productions', 'id': 5842}...</td>\n",
              "      <td>[{'iso_3166_1': 'US', 'name': 'United States o...</td>\n",
              "      <td>1995-02-10</td>\n",
              "      <td>76578911.0</td>\n",
              "      <td>106.0</td>\n",
              "      <td>[{'iso_639_1': 'en', 'name': 'English'}]</td>\n",
              "      <td>Released</td>\n",
              "      <td>Just When His World Is Back To Normal... He's ...</td>\n",
              "      <td>Father of the Bride Part II</td>\n",
              "      <td>False</td>\n",
              "      <td>5.7</td>\n",
              "      <td>173.0</td>\n",
              "    </tr>\n",
              "  </tbody>\n",
              "</table>\n",
              "</div>"
            ],
            "text/plain": [
              "   adult  ... vote_count\n",
              "0  False  ...     5415.0\n",
              "1  False  ...     2413.0\n",
              "2  False  ...       92.0\n",
              "3  False  ...       34.0\n",
              "4  False  ...      173.0\n",
              "\n",
              "[5 rows x 24 columns]"
            ]
          },
          "metadata": {
            "tags": []
          },
          "execution_count": 13
        }
      ]
    },
    {
      "cell_type": "code",
      "metadata": {
        "colab": {
          "base_uri": "https://localhost:8080/"
        },
        "id": "XU0oqmEUbUGT",
        "outputId": "8ad2110a-8786-4268-9836-aeca9697c399"
      },
      "source": [
        "movies_df.info()"
      ],
      "execution_count": null,
      "outputs": [
        {
          "output_type": "stream",
          "text": [
            "<class 'pandas.core.frame.DataFrame'>\n",
            "RangeIndex: 45466 entries, 0 to 45465\n",
            "Data columns (total 24 columns):\n",
            " #   Column                 Non-Null Count  Dtype  \n",
            "---  ------                 --------------  -----  \n",
            " 0   adult                  45466 non-null  object \n",
            " 1   belongs_to_collection  4494 non-null   object \n",
            " 2   budget                 45466 non-null  object \n",
            " 3   genres                 45466 non-null  object \n",
            " 4   homepage               7782 non-null   object \n",
            " 5   id                     45466 non-null  object \n",
            " 6   imdb_id                45449 non-null  object \n",
            " 7   original_language      45455 non-null  object \n",
            " 8   original_title         45466 non-null  object \n",
            " 9   overview               44512 non-null  object \n",
            " 10  popularity             45461 non-null  object \n",
            " 11  poster_path            45080 non-null  object \n",
            " 12  production_companies   45463 non-null  object \n",
            " 13  production_countries   45463 non-null  object \n",
            " 14  release_date           45379 non-null  object \n",
            " 15  revenue                45460 non-null  float64\n",
            " 16  runtime                45203 non-null  float64\n",
            " 17  spoken_languages       45460 non-null  object \n",
            " 18  status                 45379 non-null  object \n",
            " 19  tagline                20412 non-null  object \n",
            " 20  title                  45460 non-null  object \n",
            " 21  video                  45460 non-null  object \n",
            " 22  vote_average           45460 non-null  float64\n",
            " 23  vote_count             45460 non-null  float64\n",
            "dtypes: float64(4), object(20)\n",
            "memory usage: 8.3+ MB\n"
          ],
          "name": "stdout"
        }
      ]
    },
    {
      "cell_type": "markdown",
      "metadata": {
        "id": "SwlVDhpHhf63"
      },
      "source": [
        "The required columns are genres,vote_average,vote_count,title"
      ]
    },
    {
      "cell_type": "code",
      "metadata": {
        "colab": {
          "base_uri": "https://localhost:8080/"
        },
        "id": "6TxCvFobhfev",
        "outputId": "221f060f-1bd1-4c20-8248-b5404a31c906"
      },
      "source": [
        "#Keeping only the required columns\r\n",
        "\r\n",
        "movies=movies_df[['title','genres','vote_average','vote_count','original_language','id']]\r\n",
        "movies.info()"
      ],
      "execution_count": null,
      "outputs": [
        {
          "output_type": "stream",
          "text": [
            "<class 'pandas.core.frame.DataFrame'>\n",
            "RangeIndex: 45466 entries, 0 to 45465\n",
            "Data columns (total 6 columns):\n",
            " #   Column             Non-Null Count  Dtype  \n",
            "---  ------             --------------  -----  \n",
            " 0   title              45460 non-null  object \n",
            " 1   genres             45466 non-null  object \n",
            " 2   vote_average       45460 non-null  float64\n",
            " 3   vote_count         45460 non-null  float64\n",
            " 4   original_language  45455 non-null  object \n",
            " 5   id                 45466 non-null  object \n",
            "dtypes: float64(2), object(4)\n",
            "memory usage: 2.1+ MB\n"
          ],
          "name": "stdout"
        }
      ]
    },
    {
      "cell_type": "code",
      "metadata": {
        "colab": {
          "base_uri": "https://localhost:8080/"
        },
        "id": "qH79fqHsiRFX",
        "outputId": "9f536847-f558-4f89-bb67-e5751039190b"
      },
      "source": [
        "#Null values\r\n",
        "movies.isnull().sum()"
      ],
      "execution_count": null,
      "outputs": [
        {
          "output_type": "execute_result",
          "data": {
            "text/plain": [
              "title                 6\n",
              "genres                0\n",
              "vote_average          6\n",
              "vote_count            6\n",
              "original_language    11\n",
              "id                    0\n",
              "dtype: int64"
            ]
          },
          "metadata": {
            "tags": []
          },
          "execution_count": 15
        }
      ]
    },
    {
      "cell_type": "code",
      "metadata": {
        "colab": {
          "base_uri": "https://localhost:8080/",
          "height": 661
        },
        "id": "h0DqromHilgJ",
        "outputId": "59b3f9be-cb47-4459-bcee-f37e340bbee9"
      },
      "source": [
        "#Rows with null values\r\n",
        "movies[movies.isnull().any(axis=1)==True]"
      ],
      "execution_count": null,
      "outputs": [
        {
          "output_type": "execute_result",
          "data": {
            "text/html": [
              "<div>\n",
              "<style scoped>\n",
              "    .dataframe tbody tr th:only-of-type {\n",
              "        vertical-align: middle;\n",
              "    }\n",
              "\n",
              "    .dataframe tbody tr th {\n",
              "        vertical-align: top;\n",
              "    }\n",
              "\n",
              "    .dataframe thead th {\n",
              "        text-align: right;\n",
              "    }\n",
              "</style>\n",
              "<table border=\"1\" class=\"dataframe\">\n",
              "  <thead>\n",
              "    <tr style=\"text-align: right;\">\n",
              "      <th></th>\n",
              "      <th>title</th>\n",
              "      <th>genres</th>\n",
              "      <th>vote_average</th>\n",
              "      <th>vote_count</th>\n",
              "      <th>original_language</th>\n",
              "      <th>id</th>\n",
              "    </tr>\n",
              "  </thead>\n",
              "  <tbody>\n",
              "    <tr>\n",
              "      <th>19574</th>\n",
              "      <td>Shadowing the Third Man</td>\n",
              "      <td>[{'id': 99, 'name': 'Documentary'}]</td>\n",
              "      <td>0.0</td>\n",
              "      <td>0.0</td>\n",
              "      <td>NaN</td>\n",
              "      <td>283101</td>\n",
              "    </tr>\n",
              "    <tr>\n",
              "      <th>19729</th>\n",
              "      <td>NaN</td>\n",
              "      <td>[{'id': 28, 'name': 'Action'}, {'id': 53, 'nam...</td>\n",
              "      <td>NaN</td>\n",
              "      <td>NaN</td>\n",
              "      <td>en</td>\n",
              "      <td>82663</td>\n",
              "    </tr>\n",
              "    <tr>\n",
              "      <th>19730</th>\n",
              "      <td>NaN</td>\n",
              "      <td>[{'name': 'Carousel Productions', 'id': 11176}...</td>\n",
              "      <td>NaN</td>\n",
              "      <td>NaN</td>\n",
              "      <td>104.0</td>\n",
              "      <td>1997-08-20</td>\n",
              "    </tr>\n",
              "    <tr>\n",
              "      <th>21602</th>\n",
              "      <td>Unfinished Sky</td>\n",
              "      <td>[{'id': 10749, 'name': 'Romance'}, {'id': 18, ...</td>\n",
              "      <td>6.4</td>\n",
              "      <td>8.0</td>\n",
              "      <td>NaN</td>\n",
              "      <td>103902</td>\n",
              "    </tr>\n",
              "    <tr>\n",
              "      <th>22832</th>\n",
              "      <td>13 Fighting Men</td>\n",
              "      <td>[{'id': 10752, 'name': 'War'}, {'id': 37, 'nam...</td>\n",
              "      <td>0.0</td>\n",
              "      <td>0.0</td>\n",
              "      <td>NaN</td>\n",
              "      <td>359195</td>\n",
              "    </tr>\n",
              "    <tr>\n",
              "      <th>29502</th>\n",
              "      <td>NaN</td>\n",
              "      <td>[{'id': 16, 'name': 'Animation'}, {'id': 878, ...</td>\n",
              "      <td>NaN</td>\n",
              "      <td>NaN</td>\n",
              "      <td>ja</td>\n",
              "      <td>122662</td>\n",
              "    </tr>\n",
              "    <tr>\n",
              "      <th>29503</th>\n",
              "      <td>NaN</td>\n",
              "      <td>[{'name': 'Aniplex', 'id': 2883}, {'name': 'Go...</td>\n",
              "      <td>NaN</td>\n",
              "      <td>NaN</td>\n",
              "      <td>68.0</td>\n",
              "      <td>2012-09-29</td>\n",
              "    </tr>\n",
              "    <tr>\n",
              "      <th>32141</th>\n",
              "      <td>Lambchops</td>\n",
              "      <td>[{'id': 35, 'name': 'Comedy'}]</td>\n",
              "      <td>6.5</td>\n",
              "      <td>2.0</td>\n",
              "      <td>NaN</td>\n",
              "      <td>147050</td>\n",
              "    </tr>\n",
              "    <tr>\n",
              "      <th>35586</th>\n",
              "      <td>NaN</td>\n",
              "      <td>[{'id': 10770, 'name': 'TV Movie'}, {'id': 28,...</td>\n",
              "      <td>NaN</td>\n",
              "      <td>NaN</td>\n",
              "      <td>en</td>\n",
              "      <td>249260</td>\n",
              "    </tr>\n",
              "    <tr>\n",
              "      <th>35587</th>\n",
              "      <td>NaN</td>\n",
              "      <td>[{'name': 'Odyssey Media', 'id': 17161}, {'nam...</td>\n",
              "      <td>NaN</td>\n",
              "      <td>NaN</td>\n",
              "      <td>82.0</td>\n",
              "      <td>2014-01-01</td>\n",
              "    </tr>\n",
              "    <tr>\n",
              "      <th>37407</th>\n",
              "      <td>Prince Bayaya</td>\n",
              "      <td>[{'id': 16, 'name': 'Animation'}]</td>\n",
              "      <td>5.0</td>\n",
              "      <td>1.0</td>\n",
              "      <td>NaN</td>\n",
              "      <td>257095</td>\n",
              "    </tr>\n",
              "    <tr>\n",
              "      <th>41047</th>\n",
              "      <td>Song of Lahore</td>\n",
              "      <td>[{'id': 99, 'name': 'Documentary'}]</td>\n",
              "      <td>6.5</td>\n",
              "      <td>2.0</td>\n",
              "      <td>NaN</td>\n",
              "      <td>332742</td>\n",
              "    </tr>\n",
              "    <tr>\n",
              "      <th>41872</th>\n",
              "      <td>Annabelle Serpentine Dance</td>\n",
              "      <td>[{'id': 99, 'name': 'Documentary'}]</td>\n",
              "      <td>5.7</td>\n",
              "      <td>20.0</td>\n",
              "      <td>NaN</td>\n",
              "      <td>144410</td>\n",
              "    </tr>\n",
              "    <tr>\n",
              "      <th>44057</th>\n",
              "      <td>Lettre d'une inconnue</td>\n",
              "      <td>[{'id': 18, 'name': 'Drama'}]</td>\n",
              "      <td>0.0</td>\n",
              "      <td>0.0</td>\n",
              "      <td>NaN</td>\n",
              "      <td>380438</td>\n",
              "    </tr>\n",
              "    <tr>\n",
              "      <th>44410</th>\n",
              "      <td>Yarn</td>\n",
              "      <td>[{'id': 16, 'name': 'Animation'}, {'id': 99, '...</td>\n",
              "      <td>0.0</td>\n",
              "      <td>0.0</td>\n",
              "      <td>NaN</td>\n",
              "      <td>381096</td>\n",
              "    </tr>\n",
              "    <tr>\n",
              "      <th>44576</th>\n",
              "      <td>WiNWiN</td>\n",
              "      <td>[]</td>\n",
              "      <td>0.0</td>\n",
              "      <td>0.0</td>\n",
              "      <td>NaN</td>\n",
              "      <td>381525</td>\n",
              "    </tr>\n",
              "    <tr>\n",
              "      <th>44655</th>\n",
              "      <td>The Surrender of Tournavos</td>\n",
              "      <td>[{'id': 28, 'name': 'Action'}, {'id': 10752, '...</td>\n",
              "      <td>4.6</td>\n",
              "      <td>5.0</td>\n",
              "      <td>NaN</td>\n",
              "      <td>104473</td>\n",
              "    </tr>\n",
              "  </tbody>\n",
              "</table>\n",
              "</div>"
            ],
            "text/plain": [
              "                            title  ...          id\n",
              "19574     Shadowing the Third Man  ...      283101\n",
              "19729                         NaN  ...       82663\n",
              "19730                         NaN  ...  1997-08-20\n",
              "21602              Unfinished Sky  ...      103902\n",
              "22832             13 Fighting Men  ...      359195\n",
              "29502                         NaN  ...      122662\n",
              "29503                         NaN  ...  2012-09-29\n",
              "32141                   Lambchops  ...      147050\n",
              "35586                         NaN  ...      249260\n",
              "35587                         NaN  ...  2014-01-01\n",
              "37407               Prince Bayaya  ...      257095\n",
              "41047              Song of Lahore  ...      332742\n",
              "41872  Annabelle Serpentine Dance  ...      144410\n",
              "44057       Lettre d'une inconnue  ...      380438\n",
              "44410                        Yarn  ...      381096\n",
              "44576                      WiNWiN  ...      381525\n",
              "44655  The Surrender of Tournavos  ...      104473\n",
              "\n",
              "[17 rows x 6 columns]"
            ]
          },
          "metadata": {
            "tags": []
          },
          "execution_count": 16
        }
      ]
    },
    {
      "cell_type": "code",
      "metadata": {
        "colab": {
          "base_uri": "https://localhost:8080/"
        },
        "id": "i8uKiO_QkIHB",
        "outputId": "fa926dd9-7e1d-4db8-ac9f-5b878dade65e"
      },
      "source": [
        "#Dropping Nan values\r\n",
        "movies.dropna(inplace=True)\r\n",
        "movies.isnull().sum()"
      ],
      "execution_count": null,
      "outputs": [
        {
          "output_type": "execute_result",
          "data": {
            "text/plain": [
              "title                0\n",
              "genres               0\n",
              "vote_average         0\n",
              "vote_count           0\n",
              "original_language    0\n",
              "id                   0\n",
              "dtype: int64"
            ]
          },
          "metadata": {
            "tags": []
          },
          "execution_count": 17
        }
      ]
    },
    {
      "cell_type": "code",
      "metadata": {
        "colab": {
          "base_uri": "https://localhost:8080/",
          "height": 204
        },
        "id": "RcAC9neW7IR0",
        "outputId": "5be56116-d8b1-4baa-ae85-dfc46278ccbb"
      },
      "source": [
        "#Transforming genre column with first occuring value\r\n",
        "# Empty generes are replaced by Drama as it is most occuring value\r\n",
        "def transformGenere(genre):\r\n",
        "  lst=[]\r\n",
        "  for i in genre:    \r\n",
        "    if i['name']:\r\n",
        "      lst.append(i['name'])\r\n",
        "  return lst if len(lst)>0 else [\"Drama\"]\r\n",
        "movies['genres']=movies['genres'].apply(literal_eval).apply(transformGenere)   #literal_eval removes quotes around list\r\n",
        "movies.head()\r\n"
      ],
      "execution_count": null,
      "outputs": [
        {
          "output_type": "execute_result",
          "data": {
            "text/html": [
              "<div>\n",
              "<style scoped>\n",
              "    .dataframe tbody tr th:only-of-type {\n",
              "        vertical-align: middle;\n",
              "    }\n",
              "\n",
              "    .dataframe tbody tr th {\n",
              "        vertical-align: top;\n",
              "    }\n",
              "\n",
              "    .dataframe thead th {\n",
              "        text-align: right;\n",
              "    }\n",
              "</style>\n",
              "<table border=\"1\" class=\"dataframe\">\n",
              "  <thead>\n",
              "    <tr style=\"text-align: right;\">\n",
              "      <th></th>\n",
              "      <th>title</th>\n",
              "      <th>genres</th>\n",
              "      <th>vote_average</th>\n",
              "      <th>vote_count</th>\n",
              "      <th>original_language</th>\n",
              "      <th>id</th>\n",
              "    </tr>\n",
              "  </thead>\n",
              "  <tbody>\n",
              "    <tr>\n",
              "      <th>0</th>\n",
              "      <td>Toy Story</td>\n",
              "      <td>[Animation, Comedy, Family]</td>\n",
              "      <td>7.7</td>\n",
              "      <td>5415.0</td>\n",
              "      <td>en</td>\n",
              "      <td>862</td>\n",
              "    </tr>\n",
              "    <tr>\n",
              "      <th>1</th>\n",
              "      <td>Jumanji</td>\n",
              "      <td>[Adventure, Fantasy, Family]</td>\n",
              "      <td>6.9</td>\n",
              "      <td>2413.0</td>\n",
              "      <td>en</td>\n",
              "      <td>8844</td>\n",
              "    </tr>\n",
              "    <tr>\n",
              "      <th>2</th>\n",
              "      <td>Grumpier Old Men</td>\n",
              "      <td>[Romance, Comedy]</td>\n",
              "      <td>6.5</td>\n",
              "      <td>92.0</td>\n",
              "      <td>en</td>\n",
              "      <td>15602</td>\n",
              "    </tr>\n",
              "    <tr>\n",
              "      <th>3</th>\n",
              "      <td>Waiting to Exhale</td>\n",
              "      <td>[Comedy, Drama, Romance]</td>\n",
              "      <td>6.1</td>\n",
              "      <td>34.0</td>\n",
              "      <td>en</td>\n",
              "      <td>31357</td>\n",
              "    </tr>\n",
              "    <tr>\n",
              "      <th>4</th>\n",
              "      <td>Father of the Bride Part II</td>\n",
              "      <td>[Comedy]</td>\n",
              "      <td>5.7</td>\n",
              "      <td>173.0</td>\n",
              "      <td>en</td>\n",
              "      <td>11862</td>\n",
              "    </tr>\n",
              "  </tbody>\n",
              "</table>\n",
              "</div>"
            ],
            "text/plain": [
              "                         title  ...     id\n",
              "0                    Toy Story  ...    862\n",
              "1                      Jumanji  ...   8844\n",
              "2             Grumpier Old Men  ...  15602\n",
              "3            Waiting to Exhale  ...  31357\n",
              "4  Father of the Bride Part II  ...  11862\n",
              "\n",
              "[5 rows x 6 columns]"
            ]
          },
          "metadata": {
            "tags": []
          },
          "execution_count": 18
        }
      ]
    },
    {
      "cell_type": "code",
      "metadata": {
        "colab": {
          "base_uri": "https://localhost:8080/"
        },
        "id": "dX7buLsyQynf",
        "outputId": "1629dfe5-9ede-4335-c625-2072cdff4cc6"
      },
      "source": [
        "#List of all the genres and languages\r\n",
        "genres=set()\r\n",
        "language=set()\r\n",
        "for i,rows in movies.iterrows():\r\n",
        "  for j in rows['genres']:\r\n",
        "    genres.add(j)\r\n",
        "  # print(rows['genres'])\r\n",
        "  # break\r\n",
        "  \r\n",
        "  language.add(rows['original_language'])\r\n",
        "\r\n",
        "print(genres)\r\n",
        "print(language)"
      ],
      "execution_count": null,
      "outputs": [
        {
          "output_type": "stream",
          "text": [
            "{'Documentary', 'Family', 'History', 'Fantasy', 'Horror', 'Science Fiction', 'Foreign', 'Drama', 'Thriller', 'Mystery', 'Crime', 'Western', 'Action', 'War', 'TV Movie', 'Comedy', 'Adventure', 'Romance', 'Animation', 'Music'}\n",
            "{'tl', 'nb', 'lv', 'fy', 'bn', 'fr', 'cn', 'th', 'hu', 'mn', 'ku', 'si', 'bs', 'en', 'tr', 'ay', 'sr', 'eo', 'am', 'kn', 'ro', 'nl', 'uk', 'tg', 'sh', 'fa', 'ml', 'fi', 'ur', 'no', 'lb', 'la', 'el', 'cs', 'zh', 'qu', 'hr', 'ca', 'sl', 'mr', 'af', 'zu', 'pl', 'ky', 'xx', 'is', 'de', 'wo', 'sm', 'ja', 'bg', 'rw', 'bm', 'jv', 'kk', 'sk', 'cy', 'eu', 'ka', 'hy', 'ab', 'sv', 'ko', 'id', 'ps', 'ms', 'vi', 'lo', 'it', 'pt', 'gl', 'sq', 'ru', 'es', 'bo', 'he', 'pa', 'mk', 'te', 'ne', 'hi', 'lt', 'ar', 'da', 'et', 'ta', 'uz', 'mt', 'iu'}\n"
          ],
          "name": "stdout"
        }
      ]
    },
    {
      "cell_type": "code",
      "metadata": {
        "colab": {
          "base_uri": "https://localhost:8080/"
        },
        "id": "hNaY1yX-T_0y",
        "outputId": "8d33f245-9d84-49ef-c2cf-678a0d4a393f"
      },
      "source": [
        "import re\r\n",
        "\r\n",
        "def mapCodeToLanguage(row):\r\n",
        "  d={}\r\n",
        "  for i in row:\r\n",
        "    key=i['iso_639_1']\r\n",
        "    if key not in d:\r\n",
        "      d[key]=i['name']\r\n",
        "  return d\r\n",
        "\r\n",
        "\r\n",
        "spoken_language=movies_df['spoken_languages'].dropna().apply(literal_eval).apply(mapCodeToLanguage)\r\n",
        "\r\n",
        "uniqueLanguage= set()\r\n",
        "for i in spoken_language:\r\n",
        "  for k,v in i.items():\r\n",
        "    if v and re.match(r\"[a-zA-Z]+\",v):\r\n",
        "      uniqueLanguage.add((k,v))\r\n",
        "\r\n",
        "print(uniqueLanguage)"
      ],
      "execution_count": null,
      "outputs": [
        {
          "output_type": "stream",
          "text": [
            "{('tr', 'Türkçe'), ('gl', 'Galego'), ('ro', 'Română'), ('id', 'Bahasa indonesia'), ('pt', 'Português'), ('sr', 'Srpski'), ('bm', 'Bamanankan'), ('hu', 'Magyar'), ('la', 'Latin'), ('sq', 'shqip'), ('et', 'Eesti'), ('lt', 'Lietuvi\\x9akai'), ('sv', 'svenska'), ('it', 'Italiano'), ('nl', 'Nederlands'), ('uz', 'ozbek'), ('ca', 'Català'), ('ms', 'Bahasa melayu'), ('ru', 'Pусский'), ('da', 'Dansk'), ('vi', 'Tiếng Việt'), ('rw', 'Kinyarwanda'), ('fr', 'Français'), ('mt', 'Malti'), ('pl', 'Polski'), ('wo', 'Wolof'), ('eo', 'Esperanto'), ('de', 'Deutsch'), ('af', 'Afrikaans'), ('so', 'Somali'), ('sl', 'Slovenščina'), ('az', 'Azərbaycan'), ('bs', 'Bosanski'), ('nb', 'Bokmål'), ('ff', 'Fulfulde'), ('cy', 'Cymraeg'), ('fi', 'suomi'), ('xx', 'No Language'), ('zu', 'isiZulu'), ('hr', 'Hrvatski'), ('ga', 'Gaeilge'), ('eu', 'euskera'), ('en', 'English'), ('no', 'Norsk'), ('ha', 'Hausa'), ('es', 'Español'), ('lv', 'Latviešu'), ('sk', 'Slovenčina'), ('sw', 'Kiswahili')}\n"
          ],
          "name": "stdout"
        }
      ]
    },
    {
      "cell_type": "markdown",
      "metadata": {
        "id": "9ohcaVJX_H7k"
      },
      "source": [
        "Using the Weighted Rating formula of IMDB,\r\n",
        "\r\n",
        "Weighted Rating (WR) =  v.R/(v+m)+m.C(v+m)\r\n",
        "\r\n",
        "where:\r\n",
        "* v is the number of votes for the movie\r\n",
        "* m is the minimum votes required to be listed in the chart\r\n",
        "* R is the average rating of the movie\r\n",
        "* C is the mean vote across the whole report"
      ]
    },
    {
      "cell_type": "code",
      "metadata": {
        "colab": {
          "base_uri": "https://localhost:8080/"
        },
        "id": "8hPTPQKTKzvz",
        "outputId": "ca69a8ae-8e12-4992-8980-5bc4214e571f"
      },
      "source": [
        "#Setting the m value as 85th percentile of vote_count and c as mean of vote_average\r\n",
        "m=np.percentile(movies['vote_count'],85)\r\n",
        "print(m)\r\n",
        "\r\n",
        "c=np.mean(movies['vote_average'])\r\n",
        "print(c)"
      ],
      "execution_count": null,
      "outputs": [
        {
          "output_type": "stream",
          "text": [
            "82.0\n",
            "5.618803494025977\n"
          ],
          "name": "stdout"
        }
      ]
    },
    {
      "cell_type": "code",
      "metadata": {
        "id": "55Rc2GsZBksa"
      },
      "source": [
        "def filterByGenre(genre,t):\r\n",
        "  ''' Returns true if the given genre is in genre list'''\r\n",
        "  if t in genre:\r\n",
        "    return True\r\n",
        "  else:\r\n",
        "    return False\r\n",
        "\r\n",
        "def computeWtScore(row,m,c):\r\n",
        "  '''Compute the weighted score'''\r\n",
        "  v=row['vote_count']\r\n",
        "  r=row['vote_average']\r\n",
        "  result=v*r/(v+m)+m*c/(v+m)\r\n",
        "  return result\r\n",
        "\r\n",
        "\r\n",
        "def coldstart(movies,genre,lang,m,c):\r\n",
        "  temp=movies[(movies['genres'].apply(lambda x: filterByGenre(x,genre))) & (movies['original_language']==lang)]  \r\n",
        "  temp['WtScore']=temp.apply(lambda row: computeWtScore(row,m,c),axis=1)\r\n",
        "  temp.sort_values('WtScore',inplace=True,ascending=False)\r\n",
        "  return temp \r\n",
        "\r\n"
      ],
      "execution_count": null,
      "outputs": []
    },
    {
      "cell_type": "code",
      "metadata": {
        "colab": {
          "base_uri": "https://localhost:8080/",
          "height": 393
        },
        "id": "QrYct181NHq8",
        "outputId": "042dc3ae-8d2e-4dcd-8318-6e8b2d34d870"
      },
      "source": [
        "coldstart(movies,'Action','hi',m,c).head(10)"
      ],
      "execution_count": null,
      "outputs": [
        {
          "output_type": "execute_result",
          "data": {
            "text/html": [
              "<div>\n",
              "<style scoped>\n",
              "    .dataframe tbody tr th:only-of-type {\n",
              "        vertical-align: middle;\n",
              "    }\n",
              "\n",
              "    .dataframe tbody tr th {\n",
              "        vertical-align: top;\n",
              "    }\n",
              "\n",
              "    .dataframe thead th {\n",
              "        text-align: right;\n",
              "    }\n",
              "</style>\n",
              "<table border=\"1\" class=\"dataframe\">\n",
              "  <thead>\n",
              "    <tr style=\"text-align: right;\">\n",
              "      <th></th>\n",
              "      <th>title</th>\n",
              "      <th>genres</th>\n",
              "      <th>vote_average</th>\n",
              "      <th>vote_count</th>\n",
              "      <th>original_language</th>\n",
              "      <th>id</th>\n",
              "      <th>WtScore</th>\n",
              "    </tr>\n",
              "  </thead>\n",
              "  <tbody>\n",
              "    <tr>\n",
              "      <th>12418</th>\n",
              "      <td>Jodhaa Akbar</td>\n",
              "      <td>[Action, Adventure, Drama, History, Romance]</td>\n",
              "      <td>7.6</td>\n",
              "      <td>74.0</td>\n",
              "      <td>hi</td>\n",
              "      <td>14073</td>\n",
              "      <td>6.558602</td>\n",
              "    </tr>\n",
              "    <tr>\n",
              "      <th>20688</th>\n",
              "      <td>Don : The Chase Begins Again</td>\n",
              "      <td>[Action, Drama, Thriller]</td>\n",
              "      <td>7.3</td>\n",
              "      <td>68.0</td>\n",
              "      <td>hi</td>\n",
              "      <td>17501</td>\n",
              "      <td>6.380946</td>\n",
              "    </tr>\n",
              "    <tr>\n",
              "      <th>21256</th>\n",
              "      <td>Bhaag Milkha Bhaag</td>\n",
              "      <td>[History, Action, Drama]</td>\n",
              "      <td>7.3</td>\n",
              "      <td>62.0</td>\n",
              "      <td>hi</td>\n",
              "      <td>206324</td>\n",
              "      <td>6.342652</td>\n",
              "    </tr>\n",
              "    <tr>\n",
              "      <th>24565</th>\n",
              "      <td>Haider</td>\n",
              "      <td>[Action, Drama, Crime, Romance]</td>\n",
              "      <td>7.2</td>\n",
              "      <td>65.0</td>\n",
              "      <td>hi</td>\n",
              "      <td>280795</td>\n",
              "      <td>6.317972</td>\n",
              "    </tr>\n",
              "    <tr>\n",
              "      <th>36014</th>\n",
              "      <td>Airlift</td>\n",
              "      <td>[Thriller, Action, Drama, History]</td>\n",
              "      <td>7.3</td>\n",
              "      <td>58.0</td>\n",
              "      <td>hi</td>\n",
              "      <td>375290</td>\n",
              "      <td>6.315299</td>\n",
              "    </tr>\n",
              "    <tr>\n",
              "      <th>19637</th>\n",
              "      <td>Gangs of Wasseypur</td>\n",
              "      <td>[Action, Thriller, Crime]</td>\n",
              "      <td>7.0</td>\n",
              "      <td>83.0</td>\n",
              "      <td>hi</td>\n",
              "      <td>117691</td>\n",
              "      <td>6.313587</td>\n",
              "    </tr>\n",
              "    <tr>\n",
              "      <th>22764</th>\n",
              "      <td>Don 2: The King is Back</td>\n",
              "      <td>[Action, Thriller]</td>\n",
              "      <td>7.1</td>\n",
              "      <td>65.0</td>\n",
              "      <td>hi</td>\n",
              "      <td>41109</td>\n",
              "      <td>6.273754</td>\n",
              "    </tr>\n",
              "    <tr>\n",
              "      <th>16451</th>\n",
              "      <td>Ghajini</td>\n",
              "      <td>[Thriller, Action, Drama, Mystery]</td>\n",
              "      <td>6.9</td>\n",
              "      <td>84.0</td>\n",
              "      <td>hi</td>\n",
              "      <td>14070</td>\n",
              "      <td>6.267120</td>\n",
              "    </tr>\n",
              "    <tr>\n",
              "      <th>39495</th>\n",
              "      <td>Sultan</td>\n",
              "      <td>[Drama, Action]</td>\n",
              "      <td>7.0</td>\n",
              "      <td>71.0</td>\n",
              "      <td>hi</td>\n",
              "      <td>376812</td>\n",
              "      <td>6.259751</td>\n",
              "    </tr>\n",
              "    <tr>\n",
              "      <th>23333</th>\n",
              "      <td>A Wednesday!</td>\n",
              "      <td>[Action, Drama]</td>\n",
              "      <td>7.0</td>\n",
              "      <td>61.0</td>\n",
              "      <td>hi</td>\n",
              "      <td>19703</td>\n",
              "      <td>6.207985</td>\n",
              "    </tr>\n",
              "  </tbody>\n",
              "</table>\n",
              "</div>"
            ],
            "text/plain": [
              "                              title  ...   WtScore\n",
              "12418                  Jodhaa Akbar  ...  6.558602\n",
              "20688  Don : The Chase Begins Again  ...  6.380946\n",
              "21256            Bhaag Milkha Bhaag  ...  6.342652\n",
              "24565                        Haider  ...  6.317972\n",
              "36014                       Airlift  ...  6.315299\n",
              "19637            Gangs of Wasseypur  ...  6.313587\n",
              "22764       Don 2: The King is Back  ...  6.273754\n",
              "16451                       Ghajini  ...  6.267120\n",
              "39495                        Sultan  ...  6.259751\n",
              "23333                  A Wednesday!  ...  6.207985\n",
              "\n",
              "[10 rows x 7 columns]"
            ]
          },
          "metadata": {
            "tags": []
          },
          "execution_count": 11
        }
      ]
    }
  ]
}