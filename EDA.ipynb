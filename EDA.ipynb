{
  "nbformat": 4,
  "nbformat_minor": 0,
  "metadata": {
    "colab": {
      "name": "EDA.ipynb",
      "provenance": [],
      "collapsed_sections": [
        "pqwAkDAvnLGx",
        "1PCq8ERVnSI4",
        "ehcTzlh-nVtp"
      ],
      "toc_visible": true,
      "mount_file_id": "1wHVSv3skesihtuB1TYVvE9dAPt4bhPOt",
      "authorship_tag": "ABX9TyPJerRRb4ac8fz2HjLhXMyk",
      "include_colab_link": true
    },
    "kernelspec": {
      "name": "python3",
      "display_name": "Python 3"
    }
  },
  "cells": [
    {
      "cell_type": "markdown",
      "metadata": {
        "id": "view-in-github",
        "colab_type": "text"
      },
      "source": [
        "<a href=\"https://colab.research.google.com/github/VIVEK-JADHAV/MovieRecommendation/blob/main/EDA.ipynb\" target=\"_parent\"><img src=\"https://colab.research.google.com/assets/colab-badge.svg\" alt=\"Open In Colab\"/></a>"
      ]
    },
    {
      "cell_type": "code",
      "metadata": {
        "id": "-1O0BLFFVfPc"
      },
      "source": [
        "#Importing libraries\r\n",
        "\r\n",
        "import pandas as pd\r\n",
        "import numpy as np\r\n",
        "import os\r\n",
        "from ast import literal_eval\r\n",
        "import seaborn as sns\r\n",
        "import matplotlib.pyplot as plt\r\n",
        "from scipy import sparse\r\n",
        "from scipy.sparse import csr_matrix,coo_matrix\r\n",
        "\r\n",
        "import warnings\r\n",
        "warnings.filterwarnings('ignore')"
      ],
      "execution_count": null,
      "outputs": []
    },
    {
      "cell_type": "code",
      "metadata": {
        "colab": {
          "base_uri": "https://localhost:8080/"
        },
        "id": "bkv1b-tFW9fj",
        "outputId": "f63af67f-b214-4efc-c1c5-c16934d00e84"
      },
      "source": [
        "#Loading the data\r\n",
        "\r\n",
        "os.mkdir('/content/data')\r\n",
        "os.chdir('/content/data')\r\n",
        "print(os.getcwd())\r\n",
        "\r\n",
        "!unzip '/content/drive/MyDrive/CaseStudies/RecommendationSystem/archive.zip'"
      ],
      "execution_count": null,
      "outputs": [
        {
          "output_type": "stream",
          "text": [
            "/content/data\n",
            "Archive:  /content/drive/MyDrive/CaseStudies/RecommendationSystem/archive.zip\n",
            "  inflating: credits.csv             \n",
            "  inflating: keywords.csv            \n",
            "  inflating: links.csv               \n",
            "  inflating: links_small.csv         \n",
            "  inflating: movies_metadata.csv     \n",
            "  inflating: ratings.csv             \n",
            "  inflating: ratings_small.csv       \n"
          ],
          "name": "stdout"
        }
      ]
    },
    {
      "cell_type": "code",
      "metadata": {
        "colab": {
          "base_uri": "https://localhost:8080/",
          "height": 666
        },
        "id": "zYvuq05saZ8N",
        "outputId": "ce365587-1fb6-473f-f7b2-31b350f69361"
      },
      "source": [
        "movies_df=pd.read_csv('/content/data/movies_metadata.csv')\r\n",
        "movies_df.head()"
      ],
      "execution_count": null,
      "outputs": [
        {
          "output_type": "execute_result",
          "data": {
            "text/html": [
              "<div>\n",
              "<style scoped>\n",
              "    .dataframe tbody tr th:only-of-type {\n",
              "        vertical-align: middle;\n",
              "    }\n",
              "\n",
              "    .dataframe tbody tr th {\n",
              "        vertical-align: top;\n",
              "    }\n",
              "\n",
              "    .dataframe thead th {\n",
              "        text-align: right;\n",
              "    }\n",
              "</style>\n",
              "<table border=\"1\" class=\"dataframe\">\n",
              "  <thead>\n",
              "    <tr style=\"text-align: right;\">\n",
              "      <th></th>\n",
              "      <th>adult</th>\n",
              "      <th>belongs_to_collection</th>\n",
              "      <th>budget</th>\n",
              "      <th>genres</th>\n",
              "      <th>homepage</th>\n",
              "      <th>id</th>\n",
              "      <th>imdb_id</th>\n",
              "      <th>original_language</th>\n",
              "      <th>original_title</th>\n",
              "      <th>overview</th>\n",
              "      <th>popularity</th>\n",
              "      <th>poster_path</th>\n",
              "      <th>production_companies</th>\n",
              "      <th>production_countries</th>\n",
              "      <th>release_date</th>\n",
              "      <th>revenue</th>\n",
              "      <th>runtime</th>\n",
              "      <th>spoken_languages</th>\n",
              "      <th>status</th>\n",
              "      <th>tagline</th>\n",
              "      <th>title</th>\n",
              "      <th>video</th>\n",
              "      <th>vote_average</th>\n",
              "      <th>vote_count</th>\n",
              "    </tr>\n",
              "  </thead>\n",
              "  <tbody>\n",
              "    <tr>\n",
              "      <th>0</th>\n",
              "      <td>False</td>\n",
              "      <td>{'id': 10194, 'name': 'Toy Story Collection', ...</td>\n",
              "      <td>30000000</td>\n",
              "      <td>[{'id': 16, 'name': 'Animation'}, {'id': 35, '...</td>\n",
              "      <td>http://toystory.disney.com/toy-story</td>\n",
              "      <td>862</td>\n",
              "      <td>tt0114709</td>\n",
              "      <td>en</td>\n",
              "      <td>Toy Story</td>\n",
              "      <td>Led by Woody, Andy's toys live happily in his ...</td>\n",
              "      <td>21.9469</td>\n",
              "      <td>/rhIRbceoE9lR4veEXuwCC2wARtG.jpg</td>\n",
              "      <td>[{'name': 'Pixar Animation Studios', 'id': 3}]</td>\n",
              "      <td>[{'iso_3166_1': 'US', 'name': 'United States o...</td>\n",
              "      <td>1995-10-30</td>\n",
              "      <td>373554033.0</td>\n",
              "      <td>81.0</td>\n",
              "      <td>[{'iso_639_1': 'en', 'name': 'English'}]</td>\n",
              "      <td>Released</td>\n",
              "      <td>NaN</td>\n",
              "      <td>Toy Story</td>\n",
              "      <td>False</td>\n",
              "      <td>7.7</td>\n",
              "      <td>5415.0</td>\n",
              "    </tr>\n",
              "    <tr>\n",
              "      <th>1</th>\n",
              "      <td>False</td>\n",
              "      <td>NaN</td>\n",
              "      <td>65000000</td>\n",
              "      <td>[{'id': 12, 'name': 'Adventure'}, {'id': 14, '...</td>\n",
              "      <td>NaN</td>\n",
              "      <td>8844</td>\n",
              "      <td>tt0113497</td>\n",
              "      <td>en</td>\n",
              "      <td>Jumanji</td>\n",
              "      <td>When siblings Judy and Peter discover an encha...</td>\n",
              "      <td>17.0155</td>\n",
              "      <td>/vzmL6fP7aPKNKPRTFnZmiUfciyV.jpg</td>\n",
              "      <td>[{'name': 'TriStar Pictures', 'id': 559}, {'na...</td>\n",
              "      <td>[{'iso_3166_1': 'US', 'name': 'United States o...</td>\n",
              "      <td>1995-12-15</td>\n",
              "      <td>262797249.0</td>\n",
              "      <td>104.0</td>\n",
              "      <td>[{'iso_639_1': 'en', 'name': 'English'}, {'iso...</td>\n",
              "      <td>Released</td>\n",
              "      <td>Roll the dice and unleash the excitement!</td>\n",
              "      <td>Jumanji</td>\n",
              "      <td>False</td>\n",
              "      <td>6.9</td>\n",
              "      <td>2413.0</td>\n",
              "    </tr>\n",
              "    <tr>\n",
              "      <th>2</th>\n",
              "      <td>False</td>\n",
              "      <td>{'id': 119050, 'name': 'Grumpy Old Men Collect...</td>\n",
              "      <td>0</td>\n",
              "      <td>[{'id': 10749, 'name': 'Romance'}, {'id': 35, ...</td>\n",
              "      <td>NaN</td>\n",
              "      <td>15602</td>\n",
              "      <td>tt0113228</td>\n",
              "      <td>en</td>\n",
              "      <td>Grumpier Old Men</td>\n",
              "      <td>A family wedding reignites the ancient feud be...</td>\n",
              "      <td>11.7129</td>\n",
              "      <td>/6ksm1sjKMFLbO7UY2i6G1ju9SML.jpg</td>\n",
              "      <td>[{'name': 'Warner Bros.', 'id': 6194}, {'name'...</td>\n",
              "      <td>[{'iso_3166_1': 'US', 'name': 'United States o...</td>\n",
              "      <td>1995-12-22</td>\n",
              "      <td>0.0</td>\n",
              "      <td>101.0</td>\n",
              "      <td>[{'iso_639_1': 'en', 'name': 'English'}]</td>\n",
              "      <td>Released</td>\n",
              "      <td>Still Yelling. Still Fighting. Still Ready for...</td>\n",
              "      <td>Grumpier Old Men</td>\n",
              "      <td>False</td>\n",
              "      <td>6.5</td>\n",
              "      <td>92.0</td>\n",
              "    </tr>\n",
              "    <tr>\n",
              "      <th>3</th>\n",
              "      <td>False</td>\n",
              "      <td>NaN</td>\n",
              "      <td>16000000</td>\n",
              "      <td>[{'id': 35, 'name': 'Comedy'}, {'id': 18, 'nam...</td>\n",
              "      <td>NaN</td>\n",
              "      <td>31357</td>\n",
              "      <td>tt0114885</td>\n",
              "      <td>en</td>\n",
              "      <td>Waiting to Exhale</td>\n",
              "      <td>Cheated on, mistreated and stepped on, the wom...</td>\n",
              "      <td>3.85949</td>\n",
              "      <td>/16XOMpEaLWkrcPqSQqhTmeJuqQl.jpg</td>\n",
              "      <td>[{'name': 'Twentieth Century Fox Film Corporat...</td>\n",
              "      <td>[{'iso_3166_1': 'US', 'name': 'United States o...</td>\n",
              "      <td>1995-12-22</td>\n",
              "      <td>81452156.0</td>\n",
              "      <td>127.0</td>\n",
              "      <td>[{'iso_639_1': 'en', 'name': 'English'}]</td>\n",
              "      <td>Released</td>\n",
              "      <td>Friends are the people who let you be yourself...</td>\n",
              "      <td>Waiting to Exhale</td>\n",
              "      <td>False</td>\n",
              "      <td>6.1</td>\n",
              "      <td>34.0</td>\n",
              "    </tr>\n",
              "    <tr>\n",
              "      <th>4</th>\n",
              "      <td>False</td>\n",
              "      <td>{'id': 96871, 'name': 'Father of the Bride Col...</td>\n",
              "      <td>0</td>\n",
              "      <td>[{'id': 35, 'name': 'Comedy'}]</td>\n",
              "      <td>NaN</td>\n",
              "      <td>11862</td>\n",
              "      <td>tt0113041</td>\n",
              "      <td>en</td>\n",
              "      <td>Father of the Bride Part II</td>\n",
              "      <td>Just when George Banks has recovered from his ...</td>\n",
              "      <td>8.38752</td>\n",
              "      <td>/e64sOI48hQXyru7naBFyssKFxVd.jpg</td>\n",
              "      <td>[{'name': 'Sandollar Productions', 'id': 5842}...</td>\n",
              "      <td>[{'iso_3166_1': 'US', 'name': 'United States o...</td>\n",
              "      <td>1995-02-10</td>\n",
              "      <td>76578911.0</td>\n",
              "      <td>106.0</td>\n",
              "      <td>[{'iso_639_1': 'en', 'name': 'English'}]</td>\n",
              "      <td>Released</td>\n",
              "      <td>Just When His World Is Back To Normal... He's ...</td>\n",
              "      <td>Father of the Bride Part II</td>\n",
              "      <td>False</td>\n",
              "      <td>5.7</td>\n",
              "      <td>173.0</td>\n",
              "    </tr>\n",
              "  </tbody>\n",
              "</table>\n",
              "</div>"
            ],
            "text/plain": [
              "   adult  ... vote_count\n",
              "0  False  ...     5415.0\n",
              "1  False  ...     2413.0\n",
              "2  False  ...       92.0\n",
              "3  False  ...       34.0\n",
              "4  False  ...      173.0\n",
              "\n",
              "[5 rows x 24 columns]"
            ]
          },
          "metadata": {
            "tags": []
          },
          "execution_count": 13
        }
      ]
    },
    {
      "cell_type": "code",
      "metadata": {
        "colab": {
          "base_uri": "https://localhost:8080/"
        },
        "id": "XU0oqmEUbUGT",
        "outputId": "8ad2110a-8786-4268-9836-aeca9697c399"
      },
      "source": [
        "movies_df.info()"
      ],
      "execution_count": null,
      "outputs": [
        {
          "output_type": "stream",
          "text": [
            "<class 'pandas.core.frame.DataFrame'>\n",
            "RangeIndex: 45466 entries, 0 to 45465\n",
            "Data columns (total 24 columns):\n",
            " #   Column                 Non-Null Count  Dtype  \n",
            "---  ------                 --------------  -----  \n",
            " 0   adult                  45466 non-null  object \n",
            " 1   belongs_to_collection  4494 non-null   object \n",
            " 2   budget                 45466 non-null  object \n",
            " 3   genres                 45466 non-null  object \n",
            " 4   homepage               7782 non-null   object \n",
            " 5   id                     45466 non-null  object \n",
            " 6   imdb_id                45449 non-null  object \n",
            " 7   original_language      45455 non-null  object \n",
            " 8   original_title         45466 non-null  object \n",
            " 9   overview               44512 non-null  object \n",
            " 10  popularity             45461 non-null  object \n",
            " 11  poster_path            45080 non-null  object \n",
            " 12  production_companies   45463 non-null  object \n",
            " 13  production_countries   45463 non-null  object \n",
            " 14  release_date           45379 non-null  object \n",
            " 15  revenue                45460 non-null  float64\n",
            " 16  runtime                45203 non-null  float64\n",
            " 17  spoken_languages       45460 non-null  object \n",
            " 18  status                 45379 non-null  object \n",
            " 19  tagline                20412 non-null  object \n",
            " 20  title                  45460 non-null  object \n",
            " 21  video                  45460 non-null  object \n",
            " 22  vote_average           45460 non-null  float64\n",
            " 23  vote_count             45460 non-null  float64\n",
            "dtypes: float64(4), object(20)\n",
            "memory usage: 8.3+ MB\n"
          ],
          "name": "stdout"
        }
      ]
    },
    {
      "cell_type": "markdown",
      "metadata": {
        "id": "SwlVDhpHhf63"
      },
      "source": [
        "The required columns are genres,vote_average,vote_count,title"
      ]
    },
    {
      "cell_type": "code",
      "metadata": {
        "colab": {
          "base_uri": "https://localhost:8080/"
        },
        "id": "6TxCvFobhfev",
        "outputId": "221f060f-1bd1-4c20-8248-b5404a31c906"
      },
      "source": [
        "#Keeping only the required columns\r\n",
        "\r\n",
        "movies=movies_df[['title','genres','vote_average','vote_count','original_language','id']]\r\n",
        "movies.info()"
      ],
      "execution_count": null,
      "outputs": [
        {
          "output_type": "stream",
          "text": [
            "<class 'pandas.core.frame.DataFrame'>\n",
            "RangeIndex: 45466 entries, 0 to 45465\n",
            "Data columns (total 6 columns):\n",
            " #   Column             Non-Null Count  Dtype  \n",
            "---  ------             --------------  -----  \n",
            " 0   title              45460 non-null  object \n",
            " 1   genres             45466 non-null  object \n",
            " 2   vote_average       45460 non-null  float64\n",
            " 3   vote_count         45460 non-null  float64\n",
            " 4   original_language  45455 non-null  object \n",
            " 5   id                 45466 non-null  object \n",
            "dtypes: float64(2), object(4)\n",
            "memory usage: 2.1+ MB\n"
          ],
          "name": "stdout"
        }
      ]
    },
    {
      "cell_type": "code",
      "metadata": {
        "colab": {
          "base_uri": "https://localhost:8080/"
        },
        "id": "qH79fqHsiRFX",
        "outputId": "9f536847-f558-4f89-bb67-e5751039190b"
      },
      "source": [
        "#Null values\r\n",
        "movies.isnull().sum()"
      ],
      "execution_count": null,
      "outputs": [
        {
          "output_type": "execute_result",
          "data": {
            "text/plain": [
              "title                 6\n",
              "genres                0\n",
              "vote_average          6\n",
              "vote_count            6\n",
              "original_language    11\n",
              "id                    0\n",
              "dtype: int64"
            ]
          },
          "metadata": {
            "tags": []
          },
          "execution_count": 15
        }
      ]
    },
    {
      "cell_type": "code",
      "metadata": {
        "colab": {
          "base_uri": "https://localhost:8080/",
          "height": 661
        },
        "id": "h0DqromHilgJ",
        "outputId": "59b3f9be-cb47-4459-bcee-f37e340bbee9"
      },
      "source": [
        "#Rows with null values\r\n",
        "movies[movies.isnull().any(axis=1)==True]"
      ],
      "execution_count": null,
      "outputs": [
        {
          "output_type": "execute_result",
          "data": {
            "text/html": [
              "<div>\n",
              "<style scoped>\n",
              "    .dataframe tbody tr th:only-of-type {\n",
              "        vertical-align: middle;\n",
              "    }\n",
              "\n",
              "    .dataframe tbody tr th {\n",
              "        vertical-align: top;\n",
              "    }\n",
              "\n",
              "    .dataframe thead th {\n",
              "        text-align: right;\n",
              "    }\n",
              "</style>\n",
              "<table border=\"1\" class=\"dataframe\">\n",
              "  <thead>\n",
              "    <tr style=\"text-align: right;\">\n",
              "      <th></th>\n",
              "      <th>title</th>\n",
              "      <th>genres</th>\n",
              "      <th>vote_average</th>\n",
              "      <th>vote_count</th>\n",
              "      <th>original_language</th>\n",
              "      <th>id</th>\n",
              "    </tr>\n",
              "  </thead>\n",
              "  <tbody>\n",
              "    <tr>\n",
              "      <th>19574</th>\n",
              "      <td>Shadowing the Third Man</td>\n",
              "      <td>[{'id': 99, 'name': 'Documentary'}]</td>\n",
              "      <td>0.0</td>\n",
              "      <td>0.0</td>\n",
              "      <td>NaN</td>\n",
              "      <td>283101</td>\n",
              "    </tr>\n",
              "    <tr>\n",
              "      <th>19729</th>\n",
              "      <td>NaN</td>\n",
              "      <td>[{'id': 28, 'name': 'Action'}, {'id': 53, 'nam...</td>\n",
              "      <td>NaN</td>\n",
              "      <td>NaN</td>\n",
              "      <td>en</td>\n",
              "      <td>82663</td>\n",
              "    </tr>\n",
              "    <tr>\n",
              "      <th>19730</th>\n",
              "      <td>NaN</td>\n",
              "      <td>[{'name': 'Carousel Productions', 'id': 11176}...</td>\n",
              "      <td>NaN</td>\n",
              "      <td>NaN</td>\n",
              "      <td>104.0</td>\n",
              "      <td>1997-08-20</td>\n",
              "    </tr>\n",
              "    <tr>\n",
              "      <th>21602</th>\n",
              "      <td>Unfinished Sky</td>\n",
              "      <td>[{'id': 10749, 'name': 'Romance'}, {'id': 18, ...</td>\n",
              "      <td>6.4</td>\n",
              "      <td>8.0</td>\n",
              "      <td>NaN</td>\n",
              "      <td>103902</td>\n",
              "    </tr>\n",
              "    <tr>\n",
              "      <th>22832</th>\n",
              "      <td>13 Fighting Men</td>\n",
              "      <td>[{'id': 10752, 'name': 'War'}, {'id': 37, 'nam...</td>\n",
              "      <td>0.0</td>\n",
              "      <td>0.0</td>\n",
              "      <td>NaN</td>\n",
              "      <td>359195</td>\n",
              "    </tr>\n",
              "    <tr>\n",
              "      <th>29502</th>\n",
              "      <td>NaN</td>\n",
              "      <td>[{'id': 16, 'name': 'Animation'}, {'id': 878, ...</td>\n",
              "      <td>NaN</td>\n",
              "      <td>NaN</td>\n",
              "      <td>ja</td>\n",
              "      <td>122662</td>\n",
              "    </tr>\n",
              "    <tr>\n",
              "      <th>29503</th>\n",
              "      <td>NaN</td>\n",
              "      <td>[{'name': 'Aniplex', 'id': 2883}, {'name': 'Go...</td>\n",
              "      <td>NaN</td>\n",
              "      <td>NaN</td>\n",
              "      <td>68.0</td>\n",
              "      <td>2012-09-29</td>\n",
              "    </tr>\n",
              "    <tr>\n",
              "      <th>32141</th>\n",
              "      <td>Lambchops</td>\n",
              "      <td>[{'id': 35, 'name': 'Comedy'}]</td>\n",
              "      <td>6.5</td>\n",
              "      <td>2.0</td>\n",
              "      <td>NaN</td>\n",
              "      <td>147050</td>\n",
              "    </tr>\n",
              "    <tr>\n",
              "      <th>35586</th>\n",
              "      <td>NaN</td>\n",
              "      <td>[{'id': 10770, 'name': 'TV Movie'}, {'id': 28,...</td>\n",
              "      <td>NaN</td>\n",
              "      <td>NaN</td>\n",
              "      <td>en</td>\n",
              "      <td>249260</td>\n",
              "    </tr>\n",
              "    <tr>\n",
              "      <th>35587</th>\n",
              "      <td>NaN</td>\n",
              "      <td>[{'name': 'Odyssey Media', 'id': 17161}, {'nam...</td>\n",
              "      <td>NaN</td>\n",
              "      <td>NaN</td>\n",
              "      <td>82.0</td>\n",
              "      <td>2014-01-01</td>\n",
              "    </tr>\n",
              "    <tr>\n",
              "      <th>37407</th>\n",
              "      <td>Prince Bayaya</td>\n",
              "      <td>[{'id': 16, 'name': 'Animation'}]</td>\n",
              "      <td>5.0</td>\n",
              "      <td>1.0</td>\n",
              "      <td>NaN</td>\n",
              "      <td>257095</td>\n",
              "    </tr>\n",
              "    <tr>\n",
              "      <th>41047</th>\n",
              "      <td>Song of Lahore</td>\n",
              "      <td>[{'id': 99, 'name': 'Documentary'}]</td>\n",
              "      <td>6.5</td>\n",
              "      <td>2.0</td>\n",
              "      <td>NaN</td>\n",
              "      <td>332742</td>\n",
              "    </tr>\n",
              "    <tr>\n",
              "      <th>41872</th>\n",
              "      <td>Annabelle Serpentine Dance</td>\n",
              "      <td>[{'id': 99, 'name': 'Documentary'}]</td>\n",
              "      <td>5.7</td>\n",
              "      <td>20.0</td>\n",
              "      <td>NaN</td>\n",
              "      <td>144410</td>\n",
              "    </tr>\n",
              "    <tr>\n",
              "      <th>44057</th>\n",
              "      <td>Lettre d'une inconnue</td>\n",
              "      <td>[{'id': 18, 'name': 'Drama'}]</td>\n",
              "      <td>0.0</td>\n",
              "      <td>0.0</td>\n",
              "      <td>NaN</td>\n",
              "      <td>380438</td>\n",
              "    </tr>\n",
              "    <tr>\n",
              "      <th>44410</th>\n",
              "      <td>Yarn</td>\n",
              "      <td>[{'id': 16, 'name': 'Animation'}, {'id': 99, '...</td>\n",
              "      <td>0.0</td>\n",
              "      <td>0.0</td>\n",
              "      <td>NaN</td>\n",
              "      <td>381096</td>\n",
              "    </tr>\n",
              "    <tr>\n",
              "      <th>44576</th>\n",
              "      <td>WiNWiN</td>\n",
              "      <td>[]</td>\n",
              "      <td>0.0</td>\n",
              "      <td>0.0</td>\n",
              "      <td>NaN</td>\n",
              "      <td>381525</td>\n",
              "    </tr>\n",
              "    <tr>\n",
              "      <th>44655</th>\n",
              "      <td>The Surrender of Tournavos</td>\n",
              "      <td>[{'id': 28, 'name': 'Action'}, {'id': 10752, '...</td>\n",
              "      <td>4.6</td>\n",
              "      <td>5.0</td>\n",
              "      <td>NaN</td>\n",
              "      <td>104473</td>\n",
              "    </tr>\n",
              "  </tbody>\n",
              "</table>\n",
              "</div>"
            ],
            "text/plain": [
              "                            title  ...          id\n",
              "19574     Shadowing the Third Man  ...      283101\n",
              "19729                         NaN  ...       82663\n",
              "19730                         NaN  ...  1997-08-20\n",
              "21602              Unfinished Sky  ...      103902\n",
              "22832             13 Fighting Men  ...      359195\n",
              "29502                         NaN  ...      122662\n",
              "29503                         NaN  ...  2012-09-29\n",
              "32141                   Lambchops  ...      147050\n",
              "35586                         NaN  ...      249260\n",
              "35587                         NaN  ...  2014-01-01\n",
              "37407               Prince Bayaya  ...      257095\n",
              "41047              Song of Lahore  ...      332742\n",
              "41872  Annabelle Serpentine Dance  ...      144410\n",
              "44057       Lettre d'une inconnue  ...      380438\n",
              "44410                        Yarn  ...      381096\n",
              "44576                      WiNWiN  ...      381525\n",
              "44655  The Surrender of Tournavos  ...      104473\n",
              "\n",
              "[17 rows x 6 columns]"
            ]
          },
          "metadata": {
            "tags": []
          },
          "execution_count": 16
        }
      ]
    },
    {
      "cell_type": "code",
      "metadata": {
        "colab": {
          "base_uri": "https://localhost:8080/"
        },
        "id": "i8uKiO_QkIHB",
        "outputId": "fa926dd9-7e1d-4db8-ac9f-5b878dade65e"
      },
      "source": [
        "#Dropping Nan values\r\n",
        "movies.dropna(inplace=True)\r\n",
        "movies.isnull().sum()"
      ],
      "execution_count": null,
      "outputs": [
        {
          "output_type": "execute_result",
          "data": {
            "text/plain": [
              "title                0\n",
              "genres               0\n",
              "vote_average         0\n",
              "vote_count           0\n",
              "original_language    0\n",
              "id                   0\n",
              "dtype: int64"
            ]
          },
          "metadata": {
            "tags": []
          },
          "execution_count": 17
        }
      ]
    },
    {
      "cell_type": "code",
      "metadata": {
        "colab": {
          "base_uri": "https://localhost:8080/",
          "height": 204
        },
        "id": "RcAC9neW7IR0",
        "outputId": "5be56116-d8b1-4baa-ae85-dfc46278ccbb"
      },
      "source": [
        "#Transforming genre column with first occuring value\r\n",
        "# Empty generes are replaced by Drama as it is most occuring value\r\n",
        "def transformGenere(genre):\r\n",
        "  lst=[]\r\n",
        "  for i in genre:    \r\n",
        "    if i['name']:\r\n",
        "      lst.append(i['name'])\r\n",
        "  return lst if len(lst)>0 else [\"Drama\"]\r\n",
        "movies['genres']=movies['genres'].apply(literal_eval).apply(transformGenere)   #literal_eval removes quotes around list\r\n",
        "movies.head()\r\n"
      ],
      "execution_count": null,
      "outputs": [
        {
          "output_type": "execute_result",
          "data": {
            "text/html": [
              "<div>\n",
              "<style scoped>\n",
              "    .dataframe tbody tr th:only-of-type {\n",
              "        vertical-align: middle;\n",
              "    }\n",
              "\n",
              "    .dataframe tbody tr th {\n",
              "        vertical-align: top;\n",
              "    }\n",
              "\n",
              "    .dataframe thead th {\n",
              "        text-align: right;\n",
              "    }\n",
              "</style>\n",
              "<table border=\"1\" class=\"dataframe\">\n",
              "  <thead>\n",
              "    <tr style=\"text-align: right;\">\n",
              "      <th></th>\n",
              "      <th>title</th>\n",
              "      <th>genres</th>\n",
              "      <th>vote_average</th>\n",
              "      <th>vote_count</th>\n",
              "      <th>original_language</th>\n",
              "      <th>id</th>\n",
              "    </tr>\n",
              "  </thead>\n",
              "  <tbody>\n",
              "    <tr>\n",
              "      <th>0</th>\n",
              "      <td>Toy Story</td>\n",
              "      <td>[Animation, Comedy, Family]</td>\n",
              "      <td>7.7</td>\n",
              "      <td>5415.0</td>\n",
              "      <td>en</td>\n",
              "      <td>862</td>\n",
              "    </tr>\n",
              "    <tr>\n",
              "      <th>1</th>\n",
              "      <td>Jumanji</td>\n",
              "      <td>[Adventure, Fantasy, Family]</td>\n",
              "      <td>6.9</td>\n",
              "      <td>2413.0</td>\n",
              "      <td>en</td>\n",
              "      <td>8844</td>\n",
              "    </tr>\n",
              "    <tr>\n",
              "      <th>2</th>\n",
              "      <td>Grumpier Old Men</td>\n",
              "      <td>[Romance, Comedy]</td>\n",
              "      <td>6.5</td>\n",
              "      <td>92.0</td>\n",
              "      <td>en</td>\n",
              "      <td>15602</td>\n",
              "    </tr>\n",
              "    <tr>\n",
              "      <th>3</th>\n",
              "      <td>Waiting to Exhale</td>\n",
              "      <td>[Comedy, Drama, Romance]</td>\n",
              "      <td>6.1</td>\n",
              "      <td>34.0</td>\n",
              "      <td>en</td>\n",
              "      <td>31357</td>\n",
              "    </tr>\n",
              "    <tr>\n",
              "      <th>4</th>\n",
              "      <td>Father of the Bride Part II</td>\n",
              "      <td>[Comedy]</td>\n",
              "      <td>5.7</td>\n",
              "      <td>173.0</td>\n",
              "      <td>en</td>\n",
              "      <td>11862</td>\n",
              "    </tr>\n",
              "  </tbody>\n",
              "</table>\n",
              "</div>"
            ],
            "text/plain": [
              "                         title  ...     id\n",
              "0                    Toy Story  ...    862\n",
              "1                      Jumanji  ...   8844\n",
              "2             Grumpier Old Men  ...  15602\n",
              "3            Waiting to Exhale  ...  31357\n",
              "4  Father of the Bride Part II  ...  11862\n",
              "\n",
              "[5 rows x 6 columns]"
            ]
          },
          "metadata": {
            "tags": []
          },
          "execution_count": 18
        }
      ]
    },
    {
      "cell_type": "markdown",
      "metadata": {
        "id": "y_z-e2poa68X"
      },
      "source": [
        "### Data Formulation"
      ]
    },
    {
      "cell_type": "code",
      "metadata": {
        "colab": {
          "base_uri": "https://localhost:8080/"
        },
        "id": "hIojsdaHIPiR",
        "outputId": "91621e43-2e5d-4165-f0a7-332053201402"
      },
      "source": [
        "#Changing the datatype of id to int\r\n",
        "movies['id']=movies['id'].apply(pd.to_numeric)\r\n",
        "movies['id'].dtype"
      ],
      "execution_count": null,
      "outputs": [
        {
          "output_type": "execute_result",
          "data": {
            "text/plain": [
              "dtype('int64')"
            ]
          },
          "metadata": {
            "tags": []
          },
          "execution_count": 26
        }
      ]
    },
    {
      "cell_type": "code",
      "metadata": {
        "colab": {
          "base_uri": "https://localhost:8080/",
          "height": 204
        },
        "id": "tYaHQIytNLEQ",
        "outputId": "685aa205-87cb-41a3-b498-29441c1f50df"
      },
      "source": [
        "#Dataset containing movieId and imdbId\r\n",
        "links=pd.read_csv('/content/data/links_small.csv')\r\n",
        "links.head()"
      ],
      "execution_count": null,
      "outputs": [
        {
          "output_type": "execute_result",
          "data": {
            "text/html": [
              "<div>\n",
              "<style scoped>\n",
              "    .dataframe tbody tr th:only-of-type {\n",
              "        vertical-align: middle;\n",
              "    }\n",
              "\n",
              "    .dataframe tbody tr th {\n",
              "        vertical-align: top;\n",
              "    }\n",
              "\n",
              "    .dataframe thead th {\n",
              "        text-align: right;\n",
              "    }\n",
              "</style>\n",
              "<table border=\"1\" class=\"dataframe\">\n",
              "  <thead>\n",
              "    <tr style=\"text-align: right;\">\n",
              "      <th></th>\n",
              "      <th>movieId</th>\n",
              "      <th>imdbId</th>\n",
              "      <th>tmdbId</th>\n",
              "    </tr>\n",
              "  </thead>\n",
              "  <tbody>\n",
              "    <tr>\n",
              "      <th>0</th>\n",
              "      <td>1</td>\n",
              "      <td>114709</td>\n",
              "      <td>862.0</td>\n",
              "    </tr>\n",
              "    <tr>\n",
              "      <th>1</th>\n",
              "      <td>2</td>\n",
              "      <td>113497</td>\n",
              "      <td>8844.0</td>\n",
              "    </tr>\n",
              "    <tr>\n",
              "      <th>2</th>\n",
              "      <td>3</td>\n",
              "      <td>113228</td>\n",
              "      <td>15602.0</td>\n",
              "    </tr>\n",
              "    <tr>\n",
              "      <th>3</th>\n",
              "      <td>4</td>\n",
              "      <td>114885</td>\n",
              "      <td>31357.0</td>\n",
              "    </tr>\n",
              "    <tr>\n",
              "      <th>4</th>\n",
              "      <td>5</td>\n",
              "      <td>113041</td>\n",
              "      <td>11862.0</td>\n",
              "    </tr>\n",
              "  </tbody>\n",
              "</table>\n",
              "</div>"
            ],
            "text/plain": [
              "   movieId  imdbId   tmdbId\n",
              "0        1  114709    862.0\n",
              "1        2  113497   8844.0\n",
              "2        3  113228  15602.0\n",
              "3        4  114885  31357.0\n",
              "4        5  113041  11862.0"
            ]
          },
          "metadata": {
            "tags": []
          },
          "execution_count": 27
        }
      ]
    },
    {
      "cell_type": "code",
      "metadata": {
        "colab": {
          "base_uri": "https://localhost:8080/"
        },
        "id": "OaqUyG1TPIAV",
        "outputId": "191f4cc9-e563-4429-8bf1-3bd8e8c11d51"
      },
      "source": [
        "links.info()"
      ],
      "execution_count": null,
      "outputs": [
        {
          "output_type": "stream",
          "text": [
            "<class 'pandas.core.frame.DataFrame'>\n",
            "RangeIndex: 9125 entries, 0 to 9124\n",
            "Data columns (total 3 columns):\n",
            " #   Column   Non-Null Count  Dtype  \n",
            "---  ------   --------------  -----  \n",
            " 0   movieId  9125 non-null   int64  \n",
            " 1   imdbId   9125 non-null   int64  \n",
            " 2   tmdbId   9112 non-null   float64\n",
            "dtypes: float64(1), int64(2)\n",
            "memory usage: 214.0 KB\n"
          ],
          "name": "stdout"
        }
      ]
    },
    {
      "cell_type": "code",
      "metadata": {
        "colab": {
          "base_uri": "https://localhost:8080/",
          "height": 238
        },
        "id": "4TS9r4TgH2qx",
        "outputId": "bf3d94a3-58ef-4e5a-b80e-daea759af236"
      },
      "source": [
        "#Merging links and movies tables\r\n",
        "temp_df=pd.merge(links,movies,left_on='movieId',right_on='id')\r\n",
        "temp_df.head()"
      ],
      "execution_count": null,
      "outputs": [
        {
          "output_type": "execute_result",
          "data": {
            "text/html": [
              "<div>\n",
              "<style scoped>\n",
              "    .dataframe tbody tr th:only-of-type {\n",
              "        vertical-align: middle;\n",
              "    }\n",
              "\n",
              "    .dataframe tbody tr th {\n",
              "        vertical-align: top;\n",
              "    }\n",
              "\n",
              "    .dataframe thead th {\n",
              "        text-align: right;\n",
              "    }\n",
              "</style>\n",
              "<table border=\"1\" class=\"dataframe\">\n",
              "  <thead>\n",
              "    <tr style=\"text-align: right;\">\n",
              "      <th></th>\n",
              "      <th>movieId</th>\n",
              "      <th>imdbId</th>\n",
              "      <th>tmdbId</th>\n",
              "      <th>title</th>\n",
              "      <th>genres</th>\n",
              "      <th>vote_average</th>\n",
              "      <th>vote_count</th>\n",
              "      <th>original_language</th>\n",
              "      <th>id</th>\n",
              "    </tr>\n",
              "  </thead>\n",
              "  <tbody>\n",
              "    <tr>\n",
              "      <th>0</th>\n",
              "      <td>2</td>\n",
              "      <td>113497</td>\n",
              "      <td>8844.0</td>\n",
              "      <td>Ariel</td>\n",
              "      <td>[Drama, Crime]</td>\n",
              "      <td>7.1</td>\n",
              "      <td>44.0</td>\n",
              "      <td>fi</td>\n",
              "      <td>2</td>\n",
              "    </tr>\n",
              "    <tr>\n",
              "      <th>1</th>\n",
              "      <td>3</td>\n",
              "      <td>113228</td>\n",
              "      <td>15602.0</td>\n",
              "      <td>Shadows in Paradise</td>\n",
              "      <td>[Drama, Comedy]</td>\n",
              "      <td>7.1</td>\n",
              "      <td>35.0</td>\n",
              "      <td>fi</td>\n",
              "      <td>3</td>\n",
              "    </tr>\n",
              "    <tr>\n",
              "      <th>2</th>\n",
              "      <td>5</td>\n",
              "      <td>113041</td>\n",
              "      <td>11862.0</td>\n",
              "      <td>Four Rooms</td>\n",
              "      <td>[Crime, Comedy]</td>\n",
              "      <td>6.5</td>\n",
              "      <td>539.0</td>\n",
              "      <td>en</td>\n",
              "      <td>5</td>\n",
              "    </tr>\n",
              "    <tr>\n",
              "      <th>3</th>\n",
              "      <td>6</td>\n",
              "      <td>113277</td>\n",
              "      <td>949.0</td>\n",
              "      <td>Judgment Night</td>\n",
              "      <td>[Action, Thriller, Crime]</td>\n",
              "      <td>6.4</td>\n",
              "      <td>79.0</td>\n",
              "      <td>en</td>\n",
              "      <td>6</td>\n",
              "    </tr>\n",
              "    <tr>\n",
              "      <th>4</th>\n",
              "      <td>11</td>\n",
              "      <td>112346</td>\n",
              "      <td>9087.0</td>\n",
              "      <td>Star Wars</td>\n",
              "      <td>[Adventure, Action, Science Fiction]</td>\n",
              "      <td>8.1</td>\n",
              "      <td>6778.0</td>\n",
              "      <td>en</td>\n",
              "      <td>11</td>\n",
              "    </tr>\n",
              "  </tbody>\n",
              "</table>\n",
              "</div>"
            ],
            "text/plain": [
              "   movieId  imdbId   tmdbId  ... vote_count original_language  id\n",
              "0        2  113497   8844.0  ...       44.0                fi   2\n",
              "1        3  113228  15602.0  ...       35.0                fi   3\n",
              "2        5  113041  11862.0  ...      539.0                en   5\n",
              "3        6  113277    949.0  ...       79.0                en   6\n",
              "4       11  112346   9087.0  ...     6778.0                en  11\n",
              "\n",
              "[5 rows x 9 columns]"
            ]
          },
          "metadata": {
            "tags": []
          },
          "execution_count": 28
        }
      ]
    },
    {
      "cell_type": "code",
      "metadata": {
        "colab": {
          "base_uri": "https://localhost:8080/",
          "height": 221
        },
        "id": "I0-3zIjta98H",
        "outputId": "fa9523c6-a8b3-4e5e-f2ba-9a7a4bc0780b"
      },
      "source": [
        "#Loading ratings table\r\n",
        "\r\n",
        "ratings_df=pd.read_csv('/content/data/ratings_small.csv')\r\n",
        "print(ratings_df.shape)\r\n",
        "ratings_df.head()"
      ],
      "execution_count": null,
      "outputs": [
        {
          "output_type": "stream",
          "text": [
            "(100004, 4)\n"
          ],
          "name": "stdout"
        },
        {
          "output_type": "execute_result",
          "data": {
            "text/html": [
              "<div>\n",
              "<style scoped>\n",
              "    .dataframe tbody tr th:only-of-type {\n",
              "        vertical-align: middle;\n",
              "    }\n",
              "\n",
              "    .dataframe tbody tr th {\n",
              "        vertical-align: top;\n",
              "    }\n",
              "\n",
              "    .dataframe thead th {\n",
              "        text-align: right;\n",
              "    }\n",
              "</style>\n",
              "<table border=\"1\" class=\"dataframe\">\n",
              "  <thead>\n",
              "    <tr style=\"text-align: right;\">\n",
              "      <th></th>\n",
              "      <th>userId</th>\n",
              "      <th>movieId</th>\n",
              "      <th>rating</th>\n",
              "      <th>timestamp</th>\n",
              "    </tr>\n",
              "  </thead>\n",
              "  <tbody>\n",
              "    <tr>\n",
              "      <th>0</th>\n",
              "      <td>1</td>\n",
              "      <td>31</td>\n",
              "      <td>2.5</td>\n",
              "      <td>1260759144</td>\n",
              "    </tr>\n",
              "    <tr>\n",
              "      <th>1</th>\n",
              "      <td>1</td>\n",
              "      <td>1029</td>\n",
              "      <td>3.0</td>\n",
              "      <td>1260759179</td>\n",
              "    </tr>\n",
              "    <tr>\n",
              "      <th>2</th>\n",
              "      <td>1</td>\n",
              "      <td>1061</td>\n",
              "      <td>3.0</td>\n",
              "      <td>1260759182</td>\n",
              "    </tr>\n",
              "    <tr>\n",
              "      <th>3</th>\n",
              "      <td>1</td>\n",
              "      <td>1129</td>\n",
              "      <td>2.0</td>\n",
              "      <td>1260759185</td>\n",
              "    </tr>\n",
              "    <tr>\n",
              "      <th>4</th>\n",
              "      <td>1</td>\n",
              "      <td>1172</td>\n",
              "      <td>4.0</td>\n",
              "      <td>1260759205</td>\n",
              "    </tr>\n",
              "  </tbody>\n",
              "</table>\n",
              "</div>"
            ],
            "text/plain": [
              "   userId  movieId  rating   timestamp\n",
              "0       1       31     2.5  1260759144\n",
              "1       1     1029     3.0  1260759179\n",
              "2       1     1061     3.0  1260759182\n",
              "3       1     1129     2.0  1260759185\n",
              "4       1     1172     4.0  1260759205"
            ]
          },
          "metadata": {
            "tags": []
          },
          "execution_count": 29
        }
      ]
    },
    {
      "cell_type": "code",
      "metadata": {
        "colab": {
          "base_uri": "https://localhost:8080/",
          "height": 204
        },
        "id": "_kfwitvaQNSX",
        "outputId": "f65f2518-6f66-45e3-bf42-f11721f22a8d"
      },
      "source": [
        "#Merging ratings table with above merged table\r\n",
        "\r\n",
        "ratings=pd.merge(ratings_df,temp_df,on='movieId')\r\n",
        "ratings.drop(['imdbId','tmdbId','id'],axis=1,inplace=True)\r\n",
        "ratings.head()"
      ],
      "execution_count": null,
      "outputs": [
        {
          "output_type": "execute_result",
          "data": {
            "text/html": [
              "<div>\n",
              "<style scoped>\n",
              "    .dataframe tbody tr th:only-of-type {\n",
              "        vertical-align: middle;\n",
              "    }\n",
              "\n",
              "    .dataframe tbody tr th {\n",
              "        vertical-align: top;\n",
              "    }\n",
              "\n",
              "    .dataframe thead th {\n",
              "        text-align: right;\n",
              "    }\n",
              "</style>\n",
              "<table border=\"1\" class=\"dataframe\">\n",
              "  <thead>\n",
              "    <tr style=\"text-align: right;\">\n",
              "      <th></th>\n",
              "      <th>userId</th>\n",
              "      <th>movieId</th>\n",
              "      <th>rating</th>\n",
              "      <th>timestamp</th>\n",
              "      <th>title</th>\n",
              "      <th>genres</th>\n",
              "      <th>vote_average</th>\n",
              "      <th>vote_count</th>\n",
              "      <th>original_language</th>\n",
              "    </tr>\n",
              "  </thead>\n",
              "  <tbody>\n",
              "    <tr>\n",
              "      <th>0</th>\n",
              "      <td>1</td>\n",
              "      <td>1371</td>\n",
              "      <td>2.5</td>\n",
              "      <td>1260759135</td>\n",
              "      <td>Rocky III</td>\n",
              "      <td>[Drama]</td>\n",
              "      <td>6.6</td>\n",
              "      <td>894.0</td>\n",
              "      <td>en</td>\n",
              "    </tr>\n",
              "    <tr>\n",
              "      <th>1</th>\n",
              "      <td>4</td>\n",
              "      <td>1371</td>\n",
              "      <td>4.0</td>\n",
              "      <td>949810302</td>\n",
              "      <td>Rocky III</td>\n",
              "      <td>[Drama]</td>\n",
              "      <td>6.6</td>\n",
              "      <td>894.0</td>\n",
              "      <td>en</td>\n",
              "    </tr>\n",
              "    <tr>\n",
              "      <th>2</th>\n",
              "      <td>7</td>\n",
              "      <td>1371</td>\n",
              "      <td>3.0</td>\n",
              "      <td>851869160</td>\n",
              "      <td>Rocky III</td>\n",
              "      <td>[Drama]</td>\n",
              "      <td>6.6</td>\n",
              "      <td>894.0</td>\n",
              "      <td>en</td>\n",
              "    </tr>\n",
              "    <tr>\n",
              "      <th>3</th>\n",
              "      <td>19</td>\n",
              "      <td>1371</td>\n",
              "      <td>4.0</td>\n",
              "      <td>855193404</td>\n",
              "      <td>Rocky III</td>\n",
              "      <td>[Drama]</td>\n",
              "      <td>6.6</td>\n",
              "      <td>894.0</td>\n",
              "      <td>en</td>\n",
              "    </tr>\n",
              "    <tr>\n",
              "      <th>4</th>\n",
              "      <td>21</td>\n",
              "      <td>1371</td>\n",
              "      <td>3.0</td>\n",
              "      <td>853852263</td>\n",
              "      <td>Rocky III</td>\n",
              "      <td>[Drama]</td>\n",
              "      <td>6.6</td>\n",
              "      <td>894.0</td>\n",
              "      <td>en</td>\n",
              "    </tr>\n",
              "  </tbody>\n",
              "</table>\n",
              "</div>"
            ],
            "text/plain": [
              "   userId  movieId  rating  ...  vote_average vote_count original_language\n",
              "0       1     1371     2.5  ...           6.6      894.0                en\n",
              "1       4     1371     4.0  ...           6.6      894.0                en\n",
              "2       7     1371     3.0  ...           6.6      894.0                en\n",
              "3      19     1371     4.0  ...           6.6      894.0                en\n",
              "4      21     1371     3.0  ...           6.6      894.0                en\n",
              "\n",
              "[5 rows x 9 columns]"
            ]
          },
          "metadata": {
            "tags": []
          },
          "execution_count": 30
        }
      ]
    },
    {
      "cell_type": "code",
      "metadata": {
        "colab": {
          "base_uri": "https://localhost:8080/"
        },
        "id": "ogK2JKFGEP_-",
        "outputId": "dd92730f-08d8-4bd7-8d0d-ed5eee6965a4"
      },
      "source": [
        "ratings.info()"
      ],
      "execution_count": null,
      "outputs": [
        {
          "output_type": "stream",
          "text": [
            "<class 'pandas.core.frame.DataFrame'>\n",
            "Int64Index: 44994 entries, 0 to 44993\n",
            "Data columns (total 9 columns):\n",
            " #   Column             Non-Null Count  Dtype  \n",
            "---  ------             --------------  -----  \n",
            " 0   userId             44994 non-null  int64  \n",
            " 1   movieId            44994 non-null  int64  \n",
            " 2   rating             44994 non-null  float64\n",
            " 3   timestamp          44994 non-null  int64  \n",
            " 4   title              44994 non-null  object \n",
            " 5   genres             44994 non-null  object \n",
            " 6   vote_average       44994 non-null  float64\n",
            " 7   vote_count         44994 non-null  float64\n",
            " 8   original_language  44994 non-null  object \n",
            "dtypes: float64(3), int64(3), object(3)\n",
            "memory usage: 3.4+ MB\n"
          ],
          "name": "stdout"
        }
      ]
    },
    {
      "cell_type": "code",
      "metadata": {
        "colab": {
          "base_uri": "https://localhost:8080/",
          "height": 204
        },
        "id": "Nw0lC92XEV7p",
        "outputId": "7d9601c2-9425-40f2-d484-ce861fbeb3bc"
      },
      "source": [
        "#Converting the timestamp to y-m-d format\r\n",
        "ratings['timestamp']=pd.to_datetime(ratings['timestamp'])\r\n",
        "ratings['timestamp']=ratings['timestamp'].apply(lambda x: x.strftime('%Y-%m-%d'))\r\n",
        "ratings['timestamp']=pd.to_datetime(ratings['timestamp'])\r\n",
        "\r\n",
        "ratings.head()"
      ],
      "execution_count": null,
      "outputs": [
        {
          "output_type": "execute_result",
          "data": {
            "text/html": [
              "<div>\n",
              "<style scoped>\n",
              "    .dataframe tbody tr th:only-of-type {\n",
              "        vertical-align: middle;\n",
              "    }\n",
              "\n",
              "    .dataframe tbody tr th {\n",
              "        vertical-align: top;\n",
              "    }\n",
              "\n",
              "    .dataframe thead th {\n",
              "        text-align: right;\n",
              "    }\n",
              "</style>\n",
              "<table border=\"1\" class=\"dataframe\">\n",
              "  <thead>\n",
              "    <tr style=\"text-align: right;\">\n",
              "      <th></th>\n",
              "      <th>userId</th>\n",
              "      <th>movieId</th>\n",
              "      <th>rating</th>\n",
              "      <th>timestamp</th>\n",
              "      <th>title</th>\n",
              "      <th>genres</th>\n",
              "      <th>vote_average</th>\n",
              "      <th>vote_count</th>\n",
              "      <th>original_language</th>\n",
              "    </tr>\n",
              "  </thead>\n",
              "  <tbody>\n",
              "    <tr>\n",
              "      <th>0</th>\n",
              "      <td>1</td>\n",
              "      <td>1371</td>\n",
              "      <td>2.5</td>\n",
              "      <td>1970-01-01</td>\n",
              "      <td>Rocky III</td>\n",
              "      <td>[Drama]</td>\n",
              "      <td>6.6</td>\n",
              "      <td>894.0</td>\n",
              "      <td>en</td>\n",
              "    </tr>\n",
              "    <tr>\n",
              "      <th>1</th>\n",
              "      <td>4</td>\n",
              "      <td>1371</td>\n",
              "      <td>4.0</td>\n",
              "      <td>1970-01-01</td>\n",
              "      <td>Rocky III</td>\n",
              "      <td>[Drama]</td>\n",
              "      <td>6.6</td>\n",
              "      <td>894.0</td>\n",
              "      <td>en</td>\n",
              "    </tr>\n",
              "    <tr>\n",
              "      <th>2</th>\n",
              "      <td>7</td>\n",
              "      <td>1371</td>\n",
              "      <td>3.0</td>\n",
              "      <td>1970-01-01</td>\n",
              "      <td>Rocky III</td>\n",
              "      <td>[Drama]</td>\n",
              "      <td>6.6</td>\n",
              "      <td>894.0</td>\n",
              "      <td>en</td>\n",
              "    </tr>\n",
              "    <tr>\n",
              "      <th>3</th>\n",
              "      <td>19</td>\n",
              "      <td>1371</td>\n",
              "      <td>4.0</td>\n",
              "      <td>1970-01-01</td>\n",
              "      <td>Rocky III</td>\n",
              "      <td>[Drama]</td>\n",
              "      <td>6.6</td>\n",
              "      <td>894.0</td>\n",
              "      <td>en</td>\n",
              "    </tr>\n",
              "    <tr>\n",
              "      <th>4</th>\n",
              "      <td>21</td>\n",
              "      <td>1371</td>\n",
              "      <td>3.0</td>\n",
              "      <td>1970-01-01</td>\n",
              "      <td>Rocky III</td>\n",
              "      <td>[Drama]</td>\n",
              "      <td>6.6</td>\n",
              "      <td>894.0</td>\n",
              "      <td>en</td>\n",
              "    </tr>\n",
              "  </tbody>\n",
              "</table>\n",
              "</div>"
            ],
            "text/plain": [
              "   userId  movieId  rating  ... vote_average vote_count original_language\n",
              "0       1     1371     2.5  ...          6.6      894.0                en\n",
              "1       4     1371     4.0  ...          6.6      894.0                en\n",
              "2       7     1371     3.0  ...          6.6      894.0                en\n",
              "3      19     1371     4.0  ...          6.6      894.0                en\n",
              "4      21     1371     3.0  ...          6.6      894.0                en\n",
              "\n",
              "[5 rows x 9 columns]"
            ]
          },
          "metadata": {
            "tags": []
          },
          "execution_count": 32
        }
      ]
    },
    {
      "cell_type": "code",
      "metadata": {
        "colab": {
          "base_uri": "https://localhost:8080/"
        },
        "id": "mnXsAsacM2ab",
        "outputId": "679ee19c-d75c-4f0f-c014-6a9e90c8d8e4"
      },
      "source": [
        "#This dataset has data of just one day\r\n",
        "ratings['timestamp'].unique()"
      ],
      "execution_count": null,
      "outputs": [
        {
          "output_type": "execute_result",
          "data": {
            "text/plain": [
              "array(['1970-01-01T00:00:00.000000000'], dtype='datetime64[ns]')"
            ]
          },
          "metadata": {
            "tags": []
          },
          "execution_count": 33
        }
      ]
    },
    {
      "cell_type": "code",
      "metadata": {
        "colab": {
          "base_uri": "https://localhost:8080/"
        },
        "id": "6N7MPLAdDVIL",
        "outputId": "33ce43bf-360d-4386-988e-9bdffcc35e1a"
      },
      "source": [
        "#Checking for duplicate rows\r\n",
        "duplicate_rows=ratings.duplicated(['userId','movieId','rating']).sum()\r\n",
        "print('There are {} duplicate rows'.format(duplicate_rows))"
      ],
      "execution_count": null,
      "outputs": [
        {
          "output_type": "stream",
          "text": [
            "There are 5 duplicate rows\n"
          ],
          "name": "stdout"
        }
      ]
    },
    {
      "cell_type": "code",
      "metadata": {
        "colab": {
          "base_uri": "https://localhost:8080/"
        },
        "id": "KQ9pLlZ_RHZ_",
        "outputId": "9bc2d25c-6fa5-41f3-bd89-5e968fcb4db0"
      },
      "source": [
        "#Dropping duplicate rows\r\n",
        "ratings.drop_duplicates(['userId','movieId','rating'],inplace=True)\r\n",
        "duplicate_rows=ratings.duplicated(['userId','movieId','rating']).sum()\r\n",
        "print(duplicate_rows)"
      ],
      "execution_count": null,
      "outputs": [
        {
          "output_type": "stream",
          "text": [
            "0\n"
          ],
          "name": "stdout"
        }
      ]
    },
    {
      "cell_type": "code",
      "metadata": {
        "colab": {
          "base_uri": "https://localhost:8080/"
        },
        "id": "vaBKj2O6ECcK",
        "outputId": "c60305c3-5767-4b8e-f98a-0f727b2f1eb9"
      },
      "source": [
        "#Toatal number of unique movies and users\r\n",
        "\r\n",
        "unique_users=ratings['userId'].nunique()\r\n",
        "print('Total number of unique users are',unique_users)\r\n",
        "\r\n",
        "unique_movies=ratings['movieId'].nunique()\r\n",
        "print('Total number of unique movies are',unique_movies)"
      ],
      "execution_count": null,
      "outputs": [
        {
          "output_type": "stream",
          "text": [
            "Total number of unique users are 671\n",
            "Total number of unique movies are 2830\n"
          ],
          "name": "stdout"
        }
      ]
    },
    {
      "cell_type": "markdown",
      "metadata": {
        "id": "95I4mCl8FztD"
      },
      "source": [
        "### Exploratory Data Analysis"
      ]
    },
    {
      "cell_type": "markdown",
      "metadata": {
        "id": "pqwAkDAvnLGx"
      },
      "source": [
        "#### Analysis of Ratings Feature"
      ]
    },
    {
      "cell_type": "code",
      "metadata": {
        "colab": {
          "base_uri": "https://localhost:8080/",
          "height": 295
        },
        "id": "qF3ce5qAF36R",
        "outputId": "86d568a4-13fc-480e-97f6-0154356dc97a"
      },
      "source": [
        "#Distribution of ratings\r\n",
        "\r\n",
        "ax=sns.countplot(train['rating'])\r\n",
        "ax.set_title('Distribution of ratings')\r\n",
        "plt.show()\r\n",
        "\r\n"
      ],
      "execution_count": null,
      "outputs": [
        {
          "output_type": "display_data",
          "data": {
            "image/png": "[encoded data removed]",
            "text/plain": [
              "<Figure size 432x288 with 1 Axes>"
            ]
          },
          "metadata": {
            "tags": [],
            "needs_background": "light"
          }
        }
      ]
    },
    {
      "cell_type": "code",
      "metadata": {
        "colab": {
          "base_uri": "https://localhost:8080/"
        },
        "id": "JjTo8csqHUB3",
        "outputId": "c15883d0-5fbe-43d8-f1f3-65a8114031c2"
      },
      "source": [
        "#Percentage of different ratings\r\n",
        "train['rating'].value_counts()*100/train.shape[0]"
      ],
      "execution_count": null,
      "outputs": [
        {
          "output_type": "execute_result",
          "data": {
            "text/plain": [
              "4.0    29.696313\n",
              "3.0    21.380345\n",
              "5.0    17.759996\n",
              "3.5     9.021700\n",
              "4.5     7.076769\n",
              "2.0     6.409936\n",
              "2.5     3.698147\n",
              "1.0     2.811814\n",
              "1.5     1.364230\n",
              "0.5     0.780751\n",
              "Name: rating, dtype: float64"
            ]
          },
          "metadata": {
            "tags": []
          },
          "execution_count": 78
        }
      ]
    },
    {
      "cell_type": "markdown",
      "metadata": {
        "id": "plErObO_G8Tb"
      },
      "source": [
        "* Ratings range from 0.5 to 5 in the increments of 0.5\r\n",
        "* Users have rated a large amount of movies with ratings 3 and 4 "
      ]
    },
    {
      "cell_type": "markdown",
      "metadata": {
        "id": "1PCq8ERVnSI4"
      },
      "source": [
        "#### Analysis of Users Feature"
      ]
    },
    {
      "cell_type": "code",
      "metadata": {
        "colab": {
          "base_uri": "https://localhost:8080/"
        },
        "id": "ghdzCarmKVtu",
        "outputId": "dda964f4-6774-4887-a3d9-e307450f1e85"
      },
      "source": [
        "#Number of Ratings given by different users\r\n",
        "\r\n",
        "users=train.groupby(['userId'])['rating'].count()\r\n",
        "\r\n",
        "users.head()"
      ],
      "execution_count": null,
      "outputs": [
        {
          "output_type": "execute_result",
          "data": {
            "text/plain": [
              "userId\n",
              "1      6\n",
              "2     58\n",
              "3     25\n",
              "4    114\n",
              "5     53\n",
              "Name: rating, dtype: int64"
            ]
          },
          "metadata": {
            "tags": []
          },
          "execution_count": 79
        }
      ]
    },
    {
      "cell_type": "code",
      "metadata": {
        "colab": {
          "base_uri": "https://localhost:8080/",
          "height": 295
        },
        "id": "2t1CkUcZRlTX",
        "outputId": "7dbfe059-b49b-424c-ab2a-722e9f045aab"
      },
      "source": [
        "#Distribution of users by ratings\r\n",
        "plt.hist(users,range(0,2000,100))\r\n",
        "\r\n",
        "plt.title('Distribution of users by ratings')\r\n",
        "\r\n",
        "plt.xlabel('Number of ratings')\r\n",
        "plt.ylabel('Number of users')\r\n",
        "\r\n",
        "plt.show()"
      ],
      "execution_count": null,
      "outputs": [
        {
          "output_type": "display_data",
          "data": {
            "image/png": "[encoded data removed]",
            "text/plain": [
              "<Figure size 432x288 with 1 Axes>"
            ]
          },
          "metadata": {
            "tags": [],
            "needs_background": "light"
          }
        }
      ]
    },
    {
      "cell_type": "code",
      "metadata": {
        "colab": {
          "base_uri": "https://localhost:8080/"
        },
        "id": "uSVDh5qPVr4G",
        "outputId": "7579fdd4-0172-449f-b324-5d71aa601e1c"
      },
      "source": [
        "users.describe()"
      ],
      "execution_count": null,
      "outputs": [
        {
          "output_type": "execute_result",
          "data": {
            "text/plain": [
              "count    671.000000\n",
              "mean      53.637854\n",
              "std       64.387829\n",
              "min        2.000000\n",
              "25%       17.000000\n",
              "50%       31.000000\n",
              "75%       65.000000\n",
              "max      565.000000\n",
              "Name: rating, dtype: float64"
            ]
          },
          "metadata": {
            "tags": []
          },
          "execution_count": 81
        }
      ]
    },
    {
      "cell_type": "markdown",
      "metadata": {
        "id": "18RdvswkVY5-"
      },
      "source": [
        "* Every user has rated minimum of 2 movies\r\n",
        "* 50% of users have rated 31 or less number of movies\r\n",
        "* Most  of the users have rated fewer movies\r\n",
        "* There are users who have rated more than 200 movies."
      ]
    },
    {
      "cell_type": "markdown",
      "metadata": {
        "id": "ehcTzlh-nVtp"
      },
      "source": [
        "#### Analysis of Movies Feature"
      ]
    },
    {
      "cell_type": "code",
      "metadata": {
        "colab": {
          "base_uri": "https://localhost:8080/"
        },
        "id": "FlxzWRt1nX5b",
        "outputId": "46012d1c-0ee9-449f-b998-df40eb82c063"
      },
      "source": [
        "#Number of Ratings given to  different movies\r\n",
        "\r\n",
        "movies=train.groupby(['movieId'])['rating'].count()\r\n",
        "\r\n",
        "movies.head()"
      ],
      "execution_count": null,
      "outputs": [
        {
          "output_type": "execute_result",
          "data": {
            "text/plain": [
              "movieId\n",
              "2     107\n",
              "3      59\n",
              "5      56\n",
              "6     104\n",
              "11     82\n",
              "Name: rating, dtype: int64"
            ]
          },
          "metadata": {
            "tags": []
          },
          "execution_count": 82
        }
      ]
    },
    {
      "cell_type": "code",
      "metadata": {
        "colab": {
          "base_uri": "https://localhost:8080/",
          "height": 295
        },
        "id": "0Q419bHrntrp",
        "outputId": "9aec3a23-15a0-45d0-ce86-19e12833325e"
      },
      "source": [
        "#Distribution of users by ratings\r\n",
        "plt.hist(movies,range(0,350,10))\r\n",
        "\r\n",
        "plt.title('Distribution of movies by ratings')\r\n",
        "\r\n",
        "plt.xlabel('Number of ratings')\r\n",
        "plt.ylabel('Number of movies')\r\n",
        "\r\n",
        "plt.show()"
      ],
      "execution_count": null,
      "outputs": [
        {
          "output_type": "display_data",
          "data": {
            "image/png": "[encoded data removed]",
            "text/plain": [
              "<Figure size 432x288 with 1 Axes>"
            ]
          },
          "metadata": {
            "tags": [],
            "needs_background": "light"
          }
        }
      ]
    },
    {
      "cell_type": "code",
      "metadata": {
        "colab": {
          "base_uri": "https://localhost:8080/"
        },
        "id": "6VV6dWH_ntrs",
        "outputId": "5bf3feb0-b166-42ef-a9e0-765b53748bfb"
      },
      "source": [
        "movies.describe()"
      ],
      "execution_count": null,
      "outputs": [
        {
          "output_type": "execute_result",
          "data": {
            "text/plain": [
              "count    863.000000\n",
              "mean      41.704519\n",
              "std       45.911516\n",
              "min        1.000000\n",
              "25%       12.000000\n",
              "50%       27.000000\n",
              "75%       54.500000\n",
              "max      324.000000\n",
              "Name: rating, dtype: float64"
            ]
          },
          "metadata": {
            "tags": []
          },
          "execution_count": 87
        }
      ]
    },
    {
      "cell_type": "markdown",
      "metadata": {
        "id": "0L_xCE-wntrt"
      },
      "source": [
        "* Every movie has been rated by atleast one user.\r\n",
        "* 50% of movies have been rated 27 or less number of times\r\n",
        "* Most  of the movies have fewer ratings.\r\n",
        "* There are few movies which been rated more than 200 times."
      ]
    }
  ]
}