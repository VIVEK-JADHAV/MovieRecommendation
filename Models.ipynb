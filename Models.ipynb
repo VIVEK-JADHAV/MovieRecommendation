{
  "nbformat": 4,
  "nbformat_minor": 0,
  "metadata": {
    "colab": {
      "name": "Models.ipynb",
      "provenance": [],
      "collapsed_sections": [
        "pqwAkDAvnLGx",
        "1PCq8ERVnSI4",
        "ehcTzlh-nVtp"
      ],
      "toc_visible": true,
      "mount_file_id": "1wHVSv3skesihtuB1TYVvE9dAPt4bhPOt",
      "authorship_tag": "ABX9TyOM5jQj8jtmCExpVLZ97hf8",
      "include_colab_link": true
    },
    "kernelspec": {
      "name": "python3",
      "display_name": "Python 3"
    }
  },
  "cells": [
    {
      "cell_type": "markdown",
      "metadata": {
        "id": "view-in-github",
        "colab_type": "text"
      },
      "source": [
        "<a href=\"https://colab.research.google.com/github/VIVEK-JADHAV/MovieRecommendation/blob/main/Models.ipynb\" target=\"_parent\"><img src=\"https://colab.research.google.com/assets/colab-badge.svg\" alt=\"Open In Colab\"/></a>"
      ]
    },
    {
      "cell_type": "code",
      "metadata": {
        "id": "-1O0BLFFVfPc"
      },
      "source": [
        "#Importing libraries\r\n",
        "\r\n",
        "import pandas as pd\r\n",
        "import numpy as np\r\n",
        "import os\r\n",
        "from ast import literal_eval\r\n",
        "import seaborn as sns\r\n",
        "import matplotlib.pyplot as plt\r\n",
        "from scipy import sparse\r\n",
        "from scipy.sparse import csr_matrix,coo_matrix\r\n",
        "\r\n",
        "import warnings\r\n",
        "warnings.filterwarnings('ignore')"
      ],
      "execution_count": null,
      "outputs": []
    },
    {
      "cell_type": "code",
      "metadata": {
        "colab": {
          "base_uri": "https://localhost:8080/"
        },
        "id": "bkv1b-tFW9fj",
        "outputId": "f63af67f-b214-4efc-c1c5-c16934d00e84"
      },
      "source": [
        "#Loading the data\r\n",
        "\r\n",
        "os.mkdir('/content/data')\r\n",
        "os.chdir('/content/data')\r\n",
        "print(os.getcwd())\r\n",
        "\r\n",
        "!unzip '/content/drive/MyDrive/CaseStudies/RecommendationSystem/archive.zip'"
      ],
      "execution_count": null,
      "outputs": [
        {
          "output_type": "stream",
          "text": [
            "/content/data\n",
            "Archive:  /content/drive/MyDrive/CaseStudies/RecommendationSystem/archive.zip\n",
            "  inflating: credits.csv             \n",
            "  inflating: keywords.csv            \n",
            "  inflating: links.csv               \n",
            "  inflating: links_small.csv         \n",
            "  inflating: movies_metadata.csv     \n",
            "  inflating: ratings.csv             \n",
            "  inflating: ratings_small.csv       \n"
          ],
          "name": "stdout"
        }
      ]
    },
    {
      "cell_type": "markdown",
      "metadata": {
        "id": "c89mE43OqSHT"
      },
      "source": [
        "### Models\r\n"
      ]
    },
    {
      "cell_type": "code",
      "metadata": {
        "colab": {
          "base_uri": "https://localhost:8080/"
        },
        "id": "r3e7iGnqqU4J",
        "outputId": "ecf698d5-301e-4c85-d081-e22746e8226d"
      },
      "source": [
        "#Creating Sparse Matrix as it creates userId as row indices and movieId as column names\r\n",
        "\r\n",
        "ratings_sparse=sparse.coo_matrix((ratings['rating'].values,(ratings['userId'].values,ratings['movieId'].values)))\r\n",
        "print('The shape of sparse train matrix is ',ratings_sparse.shape)"
      ],
      "execution_count": null,
      "outputs": [
        {
          "output_type": "stream",
          "text": [
            "The shape of sparse train matrix is  (672, 160719)\n"
          ],
          "name": "stdout"
        }
      ]
    },
    {
      "cell_type": "code",
      "metadata": {
        "colab": {
          "base_uri": "https://localhost:8080/"
        },
        "id": "MB5gvD0cr_uy",
        "outputId": "32c57e78-9c20-40b1-a729-cf7af851bcfa"
      },
      "source": [
        "#Converting to dense matrix and removing columns which has no rating\r\n",
        "ratings_dense=pd.DataFrame.sparse.from_spmatrix(ratings_sparse)\r\n",
        "ratings_dense.shape"
      ],
      "execution_count": null,
      "outputs": [
        {
          "output_type": "execute_result",
          "data": {
            "text/plain": [
              "(672, 160719)"
            ]
          },
          "metadata": {
            "tags": []
          },
          "execution_count": 25
        }
      ]
    },
    {
      "cell_type": "code",
      "metadata": {
        "colab": {
          "base_uri": "https://localhost:8080/"
        },
        "id": "WQtlrK91TvaR",
        "outputId": "b825abf0-4644-4f40-c1bc-b3d3943011a4"
      },
      "source": [
        "ratings_dense=ratings_dense.loc[:,ratings_dense.sum(axis=0)!=0]\r\n",
        "\r\n",
        "\r\n",
        "print('The shape of dense  matrix is ',ratings_dense.shape)"
      ],
      "execution_count": null,
      "outputs": [
        {
          "output_type": "stream",
          "text": [
            "The shape of dense  matrix is  (672, 2830)\n"
          ],
          "name": "stdout"
        }
      ]
    },
    {
      "cell_type": "code",
      "metadata": {
        "id": "iEfDDgQYZVmY"
      },
      "source": [
        "#Making the userId from 1 \r\n",
        "ratings_dense.rename(lambda x: x+1,axis='index',inplace=True)\r\n"
      ],
      "execution_count": null,
      "outputs": []
    },
    {
      "cell_type": "markdown",
      "metadata": {
        "id": "2Jtdtg5YaXYA"
      },
      "source": [
        "#### User-User Similarity"
      ]
    },
    {
      "cell_type": "code",
      "metadata": {
        "id": "1Yvc46v6abb3"
      },
      "source": [
        "#Computing similar users based on cosine similarity\r\n",
        "\r\n",
        "from sklearn.metrics.pairwise import cosine_similarity\r\n",
        "\r\n",
        "def userSimilarity(uid,top):\r\n",
        "  '''Takes userId and returns top similar users '''\r\n",
        "  \r\n",
        "  if uid in ratings_dense.index.values:\r\n",
        "  #Computes cosine similarity between given user and all the users\r\n",
        "    sim=cosine_similarity(ratings_dense.loc[uid:uid,:],ratings_dense).ravel()\r\n",
        "\r\n",
        "    #Picking the top+1 users (+1 as cosine similarity between itself is 1 which is max) \r\n",
        "    top_sim_idx=sim.argsort()[-(top+1):]\r\n",
        "    \r\n",
        "    #Reverse the order\r\n",
        "    top_sim_idx=top_sim_idx[::-1]\r\n",
        "    return ratings_dense.index.values[top_sim_idx[1:]]\r\n",
        "  else:\r\n",
        "    return \"User does not exist\"\r\n",
        "\r\n"
      ],
      "execution_count": null,
      "outputs": []
    },
    {
      "cell_type": "code",
      "metadata": {
        "id": "0h7SXNN2nexx"
      },
      "source": [
        "def common(row,mlist):\r\n",
        "  if row['id'] in mlist:\r\n",
        "    return True\r\n",
        "  else:\r\n",
        "    return False\r\n",
        "\r\n",
        "\r\n",
        "def recommendUser(uid,top):\r\n",
        "\r\n",
        "  #Obtain similarity score\r\n",
        "  users=userSimilarity(uid,top)\r\n",
        "  \r\n",
        "\r\n",
        "  if not (isinstance(users,str)):\r\n",
        "\r\n",
        "    #Obtain movies not watched by the user\r\n",
        "    lst=[]\r\n",
        "    for j in users:      \r\n",
        "      lst.extend(ratings['movieId'][ratings['userId']==j].values)\r\n",
        "    ulist=ratings['movieId'][ratings['userId']==uid].values\r\n",
        "\r\n",
        "    mlist=list(set(lst)-set(ulist))\r\n",
        "\r\n",
        "    display=movies[movies.apply(lambda x: common(x,mlist),axis=1)]\r\n",
        "    return display\r\n",
        "  return users"
      ],
      "execution_count": null,
      "outputs": []
    },
    {
      "cell_type": "code",
      "metadata": {
        "colab": {
          "base_uri": "https://localhost:8080/",
          "height": 204
        },
        "id": "tCkS-2nme2pJ",
        "outputId": "016a83df-5a4c-45a8-8bc6-47c1a4c5e552"
      },
      "source": [
        "recommendUser(1,10).head()\r\n"
      ],
      "execution_count": null,
      "outputs": [
        {
          "output_type": "execute_result",
          "data": {
            "text/html": [
              "<div>\n",
              "<style scoped>\n",
              "    .dataframe tbody tr th:only-of-type {\n",
              "        vertical-align: middle;\n",
              "    }\n",
              "\n",
              "    .dataframe tbody tr th {\n",
              "        vertical-align: top;\n",
              "    }\n",
              "\n",
              "    .dataframe thead th {\n",
              "        text-align: right;\n",
              "    }\n",
              "</style>\n",
              "<table border=\"1\" class=\"dataframe\">\n",
              "  <thead>\n",
              "    <tr style=\"text-align: right;\">\n",
              "      <th></th>\n",
              "      <th>title</th>\n",
              "      <th>genres</th>\n",
              "      <th>vote_average</th>\n",
              "      <th>vote_count</th>\n",
              "      <th>original_language</th>\n",
              "      <th>id</th>\n",
              "    </tr>\n",
              "  </thead>\n",
              "  <tbody>\n",
              "    <tr>\n",
              "      <th>17</th>\n",
              "      <td>Four Rooms</td>\n",
              "      <td>[Crime, Comedy]</td>\n",
              "      <td>6.5</td>\n",
              "      <td>539.0</td>\n",
              "      <td>en</td>\n",
              "      <td>5</td>\n",
              "    </tr>\n",
              "    <tr>\n",
              "      <th>109</th>\n",
              "      <td>Taxi Driver</td>\n",
              "      <td>[Crime, Drama]</td>\n",
              "      <td>8.1</td>\n",
              "      <td>2632.0</td>\n",
              "      <td>en</td>\n",
              "      <td>103</td>\n",
              "    </tr>\n",
              "    <tr>\n",
              "      <th>249</th>\n",
              "      <td>Interview with the Vampire</td>\n",
              "      <td>[Horror, Romance]</td>\n",
              "      <td>7.2</td>\n",
              "      <td>1558.0</td>\n",
              "      <td>en</td>\n",
              "      <td>628</td>\n",
              "    </tr>\n",
              "    <tr>\n",
              "      <th>302</th>\n",
              "      <td>Three Colors: Red</td>\n",
              "      <td>[Drama, Mystery, Romance]</td>\n",
              "      <td>7.8</td>\n",
              "      <td>246.0</td>\n",
              "      <td>fr</td>\n",
              "      <td>110</td>\n",
              "    </tr>\n",
              "    <tr>\n",
              "      <th>324</th>\n",
              "      <td>Star Trek: Generations</td>\n",
              "      <td>[Science Fiction, Action, Adventure, Thriller]</td>\n",
              "      <td>6.4</td>\n",
              "      <td>461.0</td>\n",
              "      <td>en</td>\n",
              "      <td>193</td>\n",
              "    </tr>\n",
              "  </tbody>\n",
              "</table>\n",
              "</div>"
            ],
            "text/plain": [
              "                          title  ...   id\n",
              "17                   Four Rooms  ...    5\n",
              "109                 Taxi Driver  ...  103\n",
              "249  Interview with the Vampire  ...  628\n",
              "302           Three Colors: Red  ...  110\n",
              "324      Star Trek: Generations  ...  193\n",
              "\n",
              "[5 rows x 6 columns]"
            ]
          },
          "metadata": {
            "tags": []
          },
          "execution_count": 72
        }
      ]
    },
    {
      "cell_type": "code",
      "metadata": {
        "colab": {
          "base_uri": "https://localhost:8080/",
          "height": 337
        },
        "id": "Tj9DZLiCx5fD",
        "outputId": "fb2c7eba-69ac-4b9c-eecf-9440adae3a49"
      },
      "source": [
        "ratings[ratings['userId']==1]"
      ],
      "execution_count": null,
      "outputs": [
        {
          "output_type": "execute_result",
          "data": {
            "text/html": [
              "<div>\n",
              "<style scoped>\n",
              "    .dataframe tbody tr th:only-of-type {\n",
              "        vertical-align: middle;\n",
              "    }\n",
              "\n",
              "    .dataframe tbody tr th {\n",
              "        vertical-align: top;\n",
              "    }\n",
              "\n",
              "    .dataframe thead th {\n",
              "        text-align: right;\n",
              "    }\n",
              "</style>\n",
              "<table border=\"1\" class=\"dataframe\">\n",
              "  <thead>\n",
              "    <tr style=\"text-align: right;\">\n",
              "      <th></th>\n",
              "      <th>userId</th>\n",
              "      <th>movieId</th>\n",
              "      <th>rating</th>\n",
              "      <th>timestamp</th>\n",
              "      <th>title</th>\n",
              "      <th>genres</th>\n",
              "      <th>vote_average</th>\n",
              "      <th>vote_count</th>\n",
              "      <th>original_language</th>\n",
              "    </tr>\n",
              "  </thead>\n",
              "  <tbody>\n",
              "    <tr>\n",
              "      <th>0</th>\n",
              "      <td>1</td>\n",
              "      <td>1371</td>\n",
              "      <td>2.5</td>\n",
              "      <td>1970-01-01</td>\n",
              "      <td>Rocky III</td>\n",
              "      <td>[Drama]</td>\n",
              "      <td>6.6</td>\n",
              "      <td>894.0</td>\n",
              "      <td>en</td>\n",
              "    </tr>\n",
              "    <tr>\n",
              "      <th>47</th>\n",
              "      <td>1</td>\n",
              "      <td>1405</td>\n",
              "      <td>1.0</td>\n",
              "      <td>1970-01-01</td>\n",
              "      <td>Greed</td>\n",
              "      <td>[Drama, History]</td>\n",
              "      <td>7.5</td>\n",
              "      <td>25.0</td>\n",
              "      <td>en</td>\n",
              "    </tr>\n",
              "    <tr>\n",
              "      <th>93</th>\n",
              "      <td>1</td>\n",
              "      <td>2105</td>\n",
              "      <td>4.0</td>\n",
              "      <td>1970-01-01</td>\n",
              "      <td>American Pie</td>\n",
              "      <td>[Comedy, Romance]</td>\n",
              "      <td>6.4</td>\n",
              "      <td>2358.0</td>\n",
              "      <td>en</td>\n",
              "    </tr>\n",
              "    <tr>\n",
              "      <th>140</th>\n",
              "      <td>1</td>\n",
              "      <td>2193</td>\n",
              "      <td>2.0</td>\n",
              "      <td>1970-01-01</td>\n",
              "      <td>My Tutor</td>\n",
              "      <td>[Comedy, Drama, Romance]</td>\n",
              "      <td>5.8</td>\n",
              "      <td>17.0</td>\n",
              "      <td>en</td>\n",
              "    </tr>\n",
              "    <tr>\n",
              "      <th>182</th>\n",
              "      <td>1</td>\n",
              "      <td>2294</td>\n",
              "      <td>2.0</td>\n",
              "      <td>1970-01-01</td>\n",
              "      <td>Jay and Silent Bob Strike Back</td>\n",
              "      <td>[Comedy]</td>\n",
              "      <td>6.4</td>\n",
              "      <td>491.0</td>\n",
              "      <td>en</td>\n",
              "    </tr>\n",
              "    <tr>\n",
              "      <th>235</th>\n",
              "      <td>1</td>\n",
              "      <td>2455</td>\n",
              "      <td>2.5</td>\n",
              "      <td>1970-01-01</td>\n",
              "      <td>Confidentially Yours</td>\n",
              "      <td>[Drama, Comedy, Crime]</td>\n",
              "      <td>7.1</td>\n",
              "      <td>25.0</td>\n",
              "      <td>fr</td>\n",
              "    </tr>\n",
              "  </tbody>\n",
              "</table>\n",
              "</div>"
            ],
            "text/plain": [
              "     userId  movieId  rating  ... vote_average vote_count original_language\n",
              "0         1     1371     2.5  ...          6.6      894.0                en\n",
              "47        1     1405     1.0  ...          7.5       25.0                en\n",
              "93        1     2105     4.0  ...          6.4     2358.0                en\n",
              "140       1     2193     2.0  ...          5.8       17.0                en\n",
              "182       1     2294     2.0  ...          6.4      491.0                en\n",
              "235       1     2455     2.5  ...          7.1       25.0                fr\n",
              "\n",
              "[6 rows x 9 columns]"
            ]
          },
          "metadata": {
            "tags": []
          },
          "execution_count": 35
        }
      ]
    },
    {
      "cell_type": "markdown",
      "metadata": {
        "id": "bKcLqlVx2nFC"
      },
      "source": [
        "#### Item-Item Similarity"
      ]
    },
    {
      "cell_type": "code",
      "metadata": {
        "id": "zo8lOs2K2nFC"
      },
      "source": [
        "#Computing similar users based on cosine similarity\r\n",
        "\r\n",
        "from sklearn.metrics.pairwise import cosine_similarity\r\n",
        "\r\n",
        "def itemSimilarity(iid,top):\r\n",
        "  '''Takes userId and returns top similar users '''\r\n",
        "  if iid in ratings_dense.columns:\r\n",
        "  #Computes cosine similarity between given user and all the users\r\n",
        "    sim=cosine_similarity(ratings_dense.loc[:,iid:iid].transpose(),ratings_dense.transpose()).ravel()\r\n",
        "\r\n",
        "    #Picking the top+1 users (+1 as cosine similarity between itself is 1 which is max) \r\n",
        "    top_sim_idx=sim.argsort()[-(top+1):]\r\n",
        "    \r\n",
        "    #Reverse the order\r\n",
        "    top_sim_idx=top_sim_idx[::-1]\r\n",
        "    return ratings_dense.columns.values[top_sim_idx[1:]]\r\n",
        "  else:\r\n",
        "    return \"Movie does not exist\"\r\n",
        "\r\n"
      ],
      "execution_count": null,
      "outputs": []
    },
    {
      "cell_type": "code",
      "metadata": {
        "id": "VQzkSfmw2nFD"
      },
      "source": [
        "\r\n",
        "def recommendMovie(iid,top):\r\n",
        "\r\n",
        "  #Obtain similarity score\r\n",
        "  items=itemSimilarity(iid,top)\r\n",
        "  print(items)\r\n",
        "  \r\n",
        "\r\n",
        "  if not (isinstance(items,str)):\r\n",
        "\r\n",
        "    #Obtain movies not watched by the user\r\n",
        "    display=movies[movies['id'].isin(items)]\r\n",
        "    return display\r\n",
        "  return items"
      ],
      "execution_count": null,
      "outputs": []
    },
    {
      "cell_type": "code",
      "metadata": {
        "colab": {
          "base_uri": "https://localhost:8080/",
          "height": 221
        },
        "id": "QvZtaEsLCD6g",
        "outputId": "b532e648-cc2f-4b70-a924-46df8f47676a"
      },
      "source": [
        "recommendMovie(628,5)"
      ],
      "execution_count": null,
      "outputs": [
        {
          "output_type": "stream",
          "text": [
            "[832 786 805  14 802]\n"
          ],
          "name": "stdout"
        },
        {
          "output_type": "execute_result",
          "data": {
            "text/html": [
              "<div>\n",
              "<style scoped>\n",
              "    .dataframe tbody tr th:only-of-type {\n",
              "        vertical-align: middle;\n",
              "    }\n",
              "\n",
              "    .dataframe tbody tr th {\n",
              "        vertical-align: top;\n",
              "    }\n",
              "\n",
              "    .dataframe thead th {\n",
              "        text-align: right;\n",
              "    }\n",
              "</style>\n",
              "<table border=\"1\" class=\"dataframe\">\n",
              "  <thead>\n",
              "    <tr style=\"text-align: right;\">\n",
              "      <th></th>\n",
              "      <th>title</th>\n",
              "      <th>genres</th>\n",
              "      <th>vote_average</th>\n",
              "      <th>vote_count</th>\n",
              "      <th>original_language</th>\n",
              "      <th>id</th>\n",
              "    </tr>\n",
              "  </thead>\n",
              "  <tbody>\n",
              "    <tr>\n",
              "      <th>1215</th>\n",
              "      <td>M</td>\n",
              "      <td>[Drama, Action, Thriller, Crime]</td>\n",
              "      <td>8.0</td>\n",
              "      <td>465.0</td>\n",
              "      <td>de</td>\n",
              "      <td>832</td>\n",
              "    </tr>\n",
              "    <tr>\n",
              "      <th>2051</th>\n",
              "      <td>Rosemary's Baby</td>\n",
              "      <td>[Horror, Drama, Mystery]</td>\n",
              "      <td>7.5</td>\n",
              "      <td>892.0</td>\n",
              "      <td>en</td>\n",
              "      <td>805</td>\n",
              "    </tr>\n",
              "    <tr>\n",
              "      <th>2614</th>\n",
              "      <td>Lolita</td>\n",
              "      <td>[Drama, Romance]</td>\n",
              "      <td>7.3</td>\n",
              "      <td>409.0</td>\n",
              "      <td>en</td>\n",
              "      <td>802</td>\n",
              "    </tr>\n",
              "    <tr>\n",
              "      <th>2742</th>\n",
              "      <td>American Beauty</td>\n",
              "      <td>[Drama]</td>\n",
              "      <td>7.9</td>\n",
              "      <td>3438.0</td>\n",
              "      <td>en</td>\n",
              "      <td>14</td>\n",
              "    </tr>\n",
              "    <tr>\n",
              "      <th>3773</th>\n",
              "      <td>Almost Famous</td>\n",
              "      <td>[Drama, Music]</td>\n",
              "      <td>7.4</td>\n",
              "      <td>807.0</td>\n",
              "      <td>en</td>\n",
              "      <td>786</td>\n",
              "    </tr>\n",
              "  </tbody>\n",
              "</table>\n",
              "</div>"
            ],
            "text/plain": [
              "                title                            genres  ...  original_language   id\n",
              "1215                M  [Drama, Action, Thriller, Crime]  ...                 de  832\n",
              "2051  Rosemary's Baby          [Horror, Drama, Mystery]  ...                 en  805\n",
              "2614           Lolita                  [Drama, Romance]  ...                 en  802\n",
              "2742  American Beauty                           [Drama]  ...                 en   14\n",
              "3773    Almost Famous                    [Drama, Music]  ...                 en  786\n",
              "\n",
              "[5 rows x 6 columns]"
            ]
          },
          "metadata": {
            "tags": []
          },
          "execution_count": 65
        }
      ]
    },
    {
      "cell_type": "code",
      "metadata": {
        "colab": {
          "base_uri": "https://localhost:8080/",
          "height": 80
        },
        "id": "CVphqUqt2nFE",
        "outputId": "379f13a4-99f3-4ad9-87ef-bc711f682b9f"
      },
      "source": [
        "movies[movies['id']==628]"
      ],
      "execution_count": null,
      "outputs": [
        {
          "output_type": "execute_result",
          "data": {
            "text/html": [
              "<div>\n",
              "<style scoped>\n",
              "    .dataframe tbody tr th:only-of-type {\n",
              "        vertical-align: middle;\n",
              "    }\n",
              "\n",
              "    .dataframe tbody tr th {\n",
              "        vertical-align: top;\n",
              "    }\n",
              "\n",
              "    .dataframe thead th {\n",
              "        text-align: right;\n",
              "    }\n",
              "</style>\n",
              "<table border=\"1\" class=\"dataframe\">\n",
              "  <thead>\n",
              "    <tr style=\"text-align: right;\">\n",
              "      <th></th>\n",
              "      <th>title</th>\n",
              "      <th>genres</th>\n",
              "      <th>vote_average</th>\n",
              "      <th>vote_count</th>\n",
              "      <th>original_language</th>\n",
              "      <th>id</th>\n",
              "    </tr>\n",
              "  </thead>\n",
              "  <tbody>\n",
              "    <tr>\n",
              "      <th>249</th>\n",
              "      <td>Interview with the Vampire</td>\n",
              "      <td>[Horror, Romance]</td>\n",
              "      <td>7.2</td>\n",
              "      <td>1558.0</td>\n",
              "      <td>en</td>\n",
              "      <td>628</td>\n",
              "    </tr>\n",
              "  </tbody>\n",
              "</table>\n",
              "</div>"
            ],
            "text/plain": [
              "                          title             genres  ...  original_language   id\n",
              "249  Interview with the Vampire  [Horror, Romance]  ...                 en  628\n",
              "\n",
              "[1 rows x 6 columns]"
            ]
          },
          "metadata": {
            "tags": []
          },
          "execution_count": 64
        }
      ]
    },
    {
      "cell_type": "markdown",
      "metadata": {
        "id": "7FuVBM43Ga58"
      },
      "source": [
        "#### SVD"
      ]
    },
    {
      "cell_type": "code",
      "metadata": {
        "colab": {
          "base_uri": "https://localhost:8080/"
        },
        "id": "udLd4vghMGC_",
        "outputId": "9af25090-1c91-424a-f855-22493e99e3d8"
      },
      "source": [
        "!pip install surprise"
      ],
      "execution_count": null,
      "outputs": [
        {
          "output_type": "stream",
          "text": [
            "Collecting surprise\n",
            "  Downloading https://files.pythonhosted.org/packages/61/de/e5cba8682201fcf9c3719a6fdda95693468ed061945493dea2dd37c5618b/surprise-0.1-py2.py3-none-any.whl\n",
            "Collecting scikit-surprise\n",
            "\u001b[?25l  Downloading https://files.pythonhosted.org/packages/97/37/5d334adaf5ddd65da99fc65f6507e0e4599d092ba048f4302fe8775619e8/scikit-surprise-1.1.1.tar.gz (11.8MB)\n",
            "\u001b[K     |████████████████████████████████| 11.8MB 4.0MB/s \n",
            "\u001b[?25hRequirement already satisfied: joblib>=0.11 in /usr/local/lib/python3.6/dist-packages (from scikit-surprise->surprise) (1.0.0)\n",
            "Requirement already satisfied: numpy>=1.11.2 in /usr/local/lib/python3.6/dist-packages (from scikit-surprise->surprise) (1.19.5)\n",
            "Requirement already satisfied: scipy>=1.0.0 in /usr/local/lib/python3.6/dist-packages (from scikit-surprise->surprise) (1.4.1)\n",
            "Requirement already satisfied: six>=1.10.0 in /usr/local/lib/python3.6/dist-packages (from scikit-surprise->surprise) (1.15.0)\n",
            "Building wheels for collected packages: scikit-surprise\n",
            "  Building wheel for scikit-surprise (setup.py) ... \u001b[?25l\u001b[?25hdone\n",
            "  Created wheel for scikit-surprise: filename=scikit_surprise-1.1.1-cp36-cp36m-linux_x86_64.whl size=1618242 sha256=488a7d27ad2a60a563650a57f99d9d1d68be1502d5125c90210d1f874c0278f0\n",
            "  Stored in directory: /root/.cache/pip/wheels/78/9c/3d/41b419c9d2aff5b6e2b4c0fc8d25c538202834058f9ed110d0\n",
            "Successfully built scikit-surprise\n",
            "Installing collected packages: scikit-surprise, surprise\n",
            "Successfully installed scikit-surprise-1.1.1 surprise-0.1\n"
          ],
          "name": "stdout"
        }
      ]
    },
    {
      "cell_type": "code",
      "metadata": {
        "id": "zk03q5KCL0xM"
      },
      "source": [
        "from surprise import Reader, Dataset\r\n",
        "from surprise.model_selection import train_test_split,GridSearchCV\r\n",
        "from surprise import SVD\r\n"
      ],
      "execution_count": null,
      "outputs": []
    },
    {
      "cell_type": "code",
      "metadata": {
        "id": "Js_HCqtrNCzu"
      },
      "source": [
        "#Loading data from Dataframe\r\n",
        "reader = Reader()\r\n",
        "data=Dataset.load_from_df(ratings[['userId','movieId','rating']],reader)\r\n",
        "\r\n"
      ],
      "execution_count": null,
      "outputs": []
    },
    {
      "cell_type": "code",
      "metadata": {
        "colab": {
          "base_uri": "https://localhost:8080/"
        },
        "id": "ByTmLU8kPifQ",
        "outputId": "3967e684-ed5f-4451-c722-81ebee1ca090"
      },
      "source": [
        "#Finding the best parameters using Grid Search CV\r\n",
        "\r\n",
        "param_grid = {'n_epochs': [5, 10,15], 'lr_all': [0.002, 0.005,0.01],\r\n",
        "              'reg_all': [0.4, 0.6,1.0]}\r\n",
        "\r\n",
        "gs = GridSearchCV(SVD, param_grid, measures=['rmse', 'mae'], cv=3,joblib_verbose=1,n_jobs=-1,return_train_measures=True)\r\n",
        "\r\n",
        "gs.fit(data)"
      ],
      "execution_count": null,
      "outputs": [
        {
          "output_type": "stream",
          "text": [
            "[Parallel(n_jobs=-1)]: Using backend LokyBackend with 2 concurrent workers.\n",
            "[Parallel(n_jobs=-1)]: Done  46 tasks      | elapsed:  1.2min\n",
            "[Parallel(n_jobs=-1)]: Done  81 out of  81 | elapsed:  2.3min finished\n"
          ],
          "name": "stderr"
        }
      ]
    },
    {
      "cell_type": "code",
      "metadata": {
        "colab": {
          "base_uri": "https://localhost:8080/"
        },
        "id": "C9kgTAUNPv2c",
        "outputId": "22676483-c06f-4d8b-f813-9a2f50c07042"
      },
      "source": [
        "#Best parameters for rmse algorithm\r\n",
        "gs.best_params['rmse']"
      ],
      "execution_count": null,
      "outputs": [
        {
          "output_type": "execute_result",
          "data": {
            "text/plain": [
              "{'lr_all': 0.01, 'n_epochs': 15, 'reg_all': 0.4}"
            ]
          },
          "metadata": {
            "tags": []
          },
          "execution_count": 49
        }
      ]
    },
    {
      "cell_type": "code",
      "metadata": {
        "colab": {
          "base_uri": "https://localhost:8080/"
        },
        "id": "y8yeXhXou__h",
        "outputId": "dbf49860-72ca-4189-b152-614d386ad1e8"
      },
      "source": [
        "#Best RMSE from cv\r\n",
        "gs.best_score['rmse']"
      ],
      "execution_count": null,
      "outputs": [
        {
          "output_type": "execute_result",
          "data": {
            "text/plain": [
              "0.9050775344171739"
            ]
          },
          "metadata": {
            "tags": []
          },
          "execution_count": 51
        }
      ]
    },
    {
      "cell_type": "code",
      "metadata": {
        "id": "uHISIxYOQmK6",
        "colab": {
          "base_uri": "https://localhost:8080/"
        },
        "outputId": "ae04fc86-078b-4128-849b-d8b0ae4bb0a4"
      },
      "source": [
        "#Obtaining best parameters for rmse score and fitting on training data\r\n",
        "algo = gs.best_estimator['rmse']\r\n",
        "data_set = data.build_full_trainset()\r\n",
        "algo.fit(data_set)"
      ],
      "execution_count": null,
      "outputs": [
        {
          "output_type": "execute_result",
          "data": {
            "text/plain": [
              "<surprise.prediction_algorithms.matrix_factorization.SVD at 0x7f963a62dd68>"
            ]
          },
          "metadata": {
            "tags": []
          },
          "execution_count": 52
        }
      ]
    },
    {
      "cell_type": "code",
      "metadata": {
        "colab": {
          "base_uri": "https://localhost:8080/",
          "height": 337
        },
        "id": "iUujj0Q3UpnG",
        "outputId": "382794f8-51bb-471f-e3d8-567bfcf073d9"
      },
      "source": [
        "#Predicting on userId=1\r\n",
        "ratings[ratings['userId']==1]"
      ],
      "execution_count": null,
      "outputs": [
        {
          "output_type": "execute_result",
          "data": {
            "text/html": [
              "<div>\n",
              "<style scoped>\n",
              "    .dataframe tbody tr th:only-of-type {\n",
              "        vertical-align: middle;\n",
              "    }\n",
              "\n",
              "    .dataframe tbody tr th {\n",
              "        vertical-align: top;\n",
              "    }\n",
              "\n",
              "    .dataframe thead th {\n",
              "        text-align: right;\n",
              "    }\n",
              "</style>\n",
              "<table border=\"1\" class=\"dataframe\">\n",
              "  <thead>\n",
              "    <tr style=\"text-align: right;\">\n",
              "      <th></th>\n",
              "      <th>userId</th>\n",
              "      <th>movieId</th>\n",
              "      <th>rating</th>\n",
              "      <th>timestamp</th>\n",
              "      <th>title</th>\n",
              "      <th>genres</th>\n",
              "      <th>vote_average</th>\n",
              "      <th>vote_count</th>\n",
              "      <th>original_language</th>\n",
              "    </tr>\n",
              "  </thead>\n",
              "  <tbody>\n",
              "    <tr>\n",
              "      <th>0</th>\n",
              "      <td>1</td>\n",
              "      <td>1371</td>\n",
              "      <td>2.5</td>\n",
              "      <td>1970-01-01</td>\n",
              "      <td>Rocky III</td>\n",
              "      <td>[Drama]</td>\n",
              "      <td>6.6</td>\n",
              "      <td>894.0</td>\n",
              "      <td>en</td>\n",
              "    </tr>\n",
              "    <tr>\n",
              "      <th>47</th>\n",
              "      <td>1</td>\n",
              "      <td>1405</td>\n",
              "      <td>1.0</td>\n",
              "      <td>1970-01-01</td>\n",
              "      <td>Greed</td>\n",
              "      <td>[Drama, History]</td>\n",
              "      <td>7.5</td>\n",
              "      <td>25.0</td>\n",
              "      <td>en</td>\n",
              "    </tr>\n",
              "    <tr>\n",
              "      <th>93</th>\n",
              "      <td>1</td>\n",
              "      <td>2105</td>\n",
              "      <td>4.0</td>\n",
              "      <td>1970-01-01</td>\n",
              "      <td>American Pie</td>\n",
              "      <td>[Comedy, Romance]</td>\n",
              "      <td>6.4</td>\n",
              "      <td>2358.0</td>\n",
              "      <td>en</td>\n",
              "    </tr>\n",
              "    <tr>\n",
              "      <th>140</th>\n",
              "      <td>1</td>\n",
              "      <td>2193</td>\n",
              "      <td>2.0</td>\n",
              "      <td>1970-01-01</td>\n",
              "      <td>My Tutor</td>\n",
              "      <td>[Comedy, Drama, Romance]</td>\n",
              "      <td>5.8</td>\n",
              "      <td>17.0</td>\n",
              "      <td>en</td>\n",
              "    </tr>\n",
              "    <tr>\n",
              "      <th>182</th>\n",
              "      <td>1</td>\n",
              "      <td>2294</td>\n",
              "      <td>2.0</td>\n",
              "      <td>1970-01-01</td>\n",
              "      <td>Jay and Silent Bob Strike Back</td>\n",
              "      <td>[Comedy]</td>\n",
              "      <td>6.4</td>\n",
              "      <td>491.0</td>\n",
              "      <td>en</td>\n",
              "    </tr>\n",
              "    <tr>\n",
              "      <th>235</th>\n",
              "      <td>1</td>\n",
              "      <td>2455</td>\n",
              "      <td>2.5</td>\n",
              "      <td>1970-01-01</td>\n",
              "      <td>Confidentially Yours</td>\n",
              "      <td>[Drama, Comedy, Crime]</td>\n",
              "      <td>7.1</td>\n",
              "      <td>25.0</td>\n",
              "      <td>fr</td>\n",
              "    </tr>\n",
              "  </tbody>\n",
              "</table>\n",
              "</div>"
            ],
            "text/plain": [
              "     userId  movieId  rating  ... vote_average vote_count original_language\n",
              "0         1     1371     2.5  ...          6.6      894.0                en\n",
              "47        1     1405     1.0  ...          7.5       25.0                en\n",
              "93        1     2105     4.0  ...          6.4     2358.0                en\n",
              "140       1     2193     2.0  ...          5.8       17.0                en\n",
              "182       1     2294     2.0  ...          6.4      491.0                en\n",
              "235       1     2455     2.5  ...          7.1       25.0                fr\n",
              "\n",
              "[6 rows x 9 columns]"
            ]
          },
          "metadata": {
            "tags": []
          },
          "execution_count": 66
        }
      ]
    },
    {
      "cell_type": "code",
      "metadata": {
        "colab": {
          "base_uri": "https://localhost:8080/"
        },
        "id": "YbQhgq9gxIGe",
        "outputId": "e8d225ee-94df-4e5b-bf30-fd8858dca9f4"
      },
      "source": [
        "#Prediction\r\n",
        "algo.predict(1,1371,2.5)"
      ],
      "execution_count": null,
      "outputs": [
        {
          "output_type": "execute_result",
          "data": {
            "text/plain": [
              "Prediction(uid=1, iid=1371, r_ui=2.5, est=2.6914739810814696, details={'was_impossible': False})"
            ]
          },
          "metadata": {
            "tags": []
          },
          "execution_count": 67
        }
      ]
    },
    {
      "cell_type": "markdown",
      "metadata": {
        "id": "-h00bGN1xdrL"
      },
      "source": [
        "For userId=1 and MovieId=1371, the true rating was 2.5 and the estimated rating was 2.69, which are close to each other."
      ]
    }
  ]
}